{
 "cells": [
  {
   "cell_type": "code",
   "execution_count": 27,
   "id": "acd60ae8-217e-4025-a5c7-9063c8fd3bad",
   "metadata": {},
   "outputs": [],
   "source": [
    "import numpy as np\n",
    "import pandas as pd"
   ]
  },
  {
   "cell_type": "code",
   "execution_count": 6,
   "id": "e8ebbe96-ab05-4aa4-a066-596bdd6e12e5",
   "metadata": {},
   "outputs": [],
   "source": [
    "confidences = np.load('user_predictions_small/confidences.npy')"
   ]
  },
  {
   "cell_type": "code",
   "execution_count": 7,
   "id": "6801111a-8c5f-4108-b19c-e13456d72c0e",
   "metadata": {},
   "outputs": [],
   "source": [
    "min_self_dist = np.load('user_predictions_small/min_self_distances.npy')"
   ]
  },
  {
   "cell_type": "code",
   "execution_count": 8,
   "id": "421bd5f4-51d7-4523-bf54-13c69d95b177",
   "metadata": {},
   "outputs": [],
   "source": [
    "run_times = np.load('user_predictions_small/run_times.npy')"
   ]
  },
  {
   "cell_type": "code",
   "execution_count": 11,
   "id": "cab48113-0fcb-4031-9290-b01b3e318ec5",
   "metadata": {},
   "outputs": [
    {
     "name": "stdout",
     "output_type": "stream",
     "text": [
      "73 55 73\n"
     ]
    }
   ],
   "source": [
    "print( len(confidences),len(min_self_dist), len(run_times))"
   ]
  },
  {
   "cell_type": "code",
   "execution_count": 31,
   "id": "31f772b5-7af2-4450-b2e0-7d806a31ca88",
   "metadata": {},
   "outputs": [],
   "source": [
    "df = pd.read_csv('/Users/faflik/Projects/MoleculeScreen/Data/raw_data/Diffdock/extracted_data.csv')"
   ]
  },
  {
   "cell_type": "code",
   "execution_count": 37,
   "id": "121e6a3c-f96c-4fd6-9225-13d2a492b186",
   "metadata": {},
   "outputs": [
    {
     "data": {
      "text/html": [
       "<div>\n",
       "<style scoped>\n",
       "    .dataframe tbody tr th:only-of-type {\n",
       "        vertical-align: middle;\n",
       "    }\n",
       "\n",
       "    .dataframe tbody tr th {\n",
       "        vertical-align: top;\n",
       "    }\n",
       "\n",
       "    .dataframe thead th {\n",
       "        text-align: right;\n",
       "    }\n",
       "</style>\n",
       "<table border=\"1\" class=\"dataframe\">\n",
       "  <thead>\n",
       "    <tr style=\"text-align: right;\">\n",
       "      <th></th>\n",
       "      <th>Index</th>\n",
       "      <th>PDB Code</th>\n",
       "      <th>SMILES Chemical Structure</th>\n",
       "    </tr>\n",
       "  </thead>\n",
       "  <tbody>\n",
       "    <tr>\n",
       "      <th>0</th>\n",
       "      <td>24</td>\n",
       "      <td>tmp-pdb-7RDY</td>\n",
       "      <td>CC1(C)CC[C@@]2(CC[C@]3(C)[C@@H]([C@@H]2C1)C(=O...</td>\n",
       "    </tr>\n",
       "    <tr>\n",
       "      <th>1</th>\n",
       "      <td>29</td>\n",
       "      <td>tmp-pdb-7RDY</td>\n",
       "      <td>[H][C@@]12[C@@H]3SC[C@]4(NCCC5=C4C=C(OC)C(O)=C...</td>\n",
       "    </tr>\n",
       "    <tr>\n",
       "      <th>2</th>\n",
       "      <td>36</td>\n",
       "      <td>tmp-pdb-7RDY</td>\n",
       "      <td>[H][C@@]12N(C)C3=CC(OC)=C(C=C3[C@@]11CCN3CC=C[...</td>\n",
       "    </tr>\n",
       "    <tr>\n",
       "      <th>3</th>\n",
       "      <td>35</td>\n",
       "      <td>tmp-pdb-7RDY</td>\n",
       "      <td>O[C@@H]1[C@@H](O)[C@@H](CC2=CC=CC=C2)N(CC2=CC=...</td>\n",
       "    </tr>\n",
       "    <tr>\n",
       "      <th>4</th>\n",
       "      <td>38</td>\n",
       "      <td>tmp-pdb-7RDY</td>\n",
       "      <td>C[C@@H]1C[C@H]2[C@@H]3CCC4=CC(=O)C=C[C@]4(C)C3...</td>\n",
       "    </tr>\n",
       "  </tbody>\n",
       "</table>\n",
       "</div>"
      ],
      "text/plain": [
       "   Index      PDB Code                          SMILES Chemical Structure\n",
       "0     24  tmp-pdb-7RDY  CC1(C)CC[C@@]2(CC[C@]3(C)[C@@H]([C@@H]2C1)C(=O...\n",
       "1     29  tmp-pdb-7RDY  [H][C@@]12[C@@H]3SC[C@]4(NCCC5=C4C=C(OC)C(O)=C...\n",
       "2     36  tmp-pdb-7RDY  [H][C@@]12N(C)C3=CC(OC)=C(C=C3[C@@]11CCN3CC=C[...\n",
       "3     35  tmp-pdb-7RDY  O[C@@H]1[C@@H](O)[C@@H](CC2=CC=CC=C2)N(CC2=CC=...\n",
       "4     38  tmp-pdb-7RDY  C[C@@H]1C[C@H]2[C@@H]3CCC4=CC(=O)C=C[C@]4(C)C3..."
      ]
     },
     "execution_count": 37,
     "metadata": {},
     "output_type": "execute_result"
    }
   ],
   "source": [
    "df.head()"
   ]
  },
  {
   "cell_type": "code",
   "execution_count": 43,
   "id": "2e72154c-fbde-4b5e-bf66-5288433738bc",
   "metadata": {},
   "outputs": [],
   "source": [
    "# Function to get the minimum and mean of the confidence list\n",
    "def get_confidence_stats(index, confidences):\n",
    "    confidence_list = confidences[index]\n",
    "    best = np.max(confidence_list)\n",
    "    mean = np.mean(confidence_list)\n",
    "    return pd.Series([best, mean])\n",
    "\n",
    "# Applying the function and adding the results to the DataFrame\n",
    "df[['Best', 'Mean']] = df.apply(lambda row: get_confidence_stats(row['Index'], confidences), axis=1)"
   ]
  },
  {
   "cell_type": "code",
   "execution_count": 44,
   "id": "31e72bf2-83b9-42ff-a890-19b0c22954d7",
   "metadata": {},
   "outputs": [
    {
     "data": {
      "text/html": [
       "<div>\n",
       "<style scoped>\n",
       "    .dataframe tbody tr th:only-of-type {\n",
       "        vertical-align: middle;\n",
       "    }\n",
       "\n",
       "    .dataframe tbody tr th {\n",
       "        vertical-align: top;\n",
       "    }\n",
       "\n",
       "    .dataframe thead th {\n",
       "        text-align: right;\n",
       "    }\n",
       "</style>\n",
       "<table border=\"1\" class=\"dataframe\">\n",
       "  <thead>\n",
       "    <tr style=\"text-align: right;\">\n",
       "      <th></th>\n",
       "      <th>Index</th>\n",
       "      <th>PDB Code</th>\n",
       "      <th>SMILES Chemical Structure</th>\n",
       "      <th>Best</th>\n",
       "      <th>Mean</th>\n",
       "    </tr>\n",
       "  </thead>\n",
       "  <tbody>\n",
       "    <tr>\n",
       "      <th>0</th>\n",
       "      <td>24</td>\n",
       "      <td>tmp-pdb-7RDY</td>\n",
       "      <td>CC1(C)CC[C@@]2(CC[C@]3(C)[C@@H]([C@@H]2C1)C(=O...</td>\n",
       "      <td>-1.276003</td>\n",
       "      <td>-2.959810</td>\n",
       "    </tr>\n",
       "    <tr>\n",
       "      <th>1</th>\n",
       "      <td>29</td>\n",
       "      <td>tmp-pdb-7RDY</td>\n",
       "      <td>[H][C@@]12[C@@H]3SC[C@]4(NCCC5=C4C=C(OC)C(O)=C...</td>\n",
       "      <td>-1.657168</td>\n",
       "      <td>-3.038443</td>\n",
       "    </tr>\n",
       "    <tr>\n",
       "      <th>2</th>\n",
       "      <td>36</td>\n",
       "      <td>tmp-pdb-7RDY</td>\n",
       "      <td>[H][C@@]12N(C)C3=CC(OC)=C(C=C3[C@@]11CCN3CC=C[...</td>\n",
       "      <td>-1.506844</td>\n",
       "      <td>-3.229141</td>\n",
       "    </tr>\n",
       "    <tr>\n",
       "      <th>3</th>\n",
       "      <td>35</td>\n",
       "      <td>tmp-pdb-7RDY</td>\n",
       "      <td>O[C@@H]1[C@@H](O)[C@@H](CC2=CC=CC=C2)N(CC2=CC=...</td>\n",
       "      <td>-2.207640</td>\n",
       "      <td>-3.863362</td>\n",
       "    </tr>\n",
       "    <tr>\n",
       "      <th>4</th>\n",
       "      <td>38</td>\n",
       "      <td>tmp-pdb-7RDY</td>\n",
       "      <td>C[C@@H]1C[C@H]2[C@@H]3CCC4=CC(=O)C=C[C@]4(C)C3...</td>\n",
       "      <td>-1.125133</td>\n",
       "      <td>-3.303394</td>\n",
       "    </tr>\n",
       "  </tbody>\n",
       "</table>\n",
       "</div>"
      ],
      "text/plain": [
       "   Index      PDB Code                          SMILES Chemical Structure  \\\n",
       "0     24  tmp-pdb-7RDY  CC1(C)CC[C@@]2(CC[C@]3(C)[C@@H]([C@@H]2C1)C(=O...   \n",
       "1     29  tmp-pdb-7RDY  [H][C@@]12[C@@H]3SC[C@]4(NCCC5=C4C=C(OC)C(O)=C...   \n",
       "2     36  tmp-pdb-7RDY  [H][C@@]12N(C)C3=CC(OC)=C(C=C3[C@@]11CCN3CC=C[...   \n",
       "3     35  tmp-pdb-7RDY  O[C@@H]1[C@@H](O)[C@@H](CC2=CC=CC=C2)N(CC2=CC=...   \n",
       "4     38  tmp-pdb-7RDY  C[C@@H]1C[C@H]2[C@@H]3CCC4=CC(=O)C=C[C@]4(C)C3...   \n",
       "\n",
       "       Best      Mean  \n",
       "0 -1.276003 -2.959810  \n",
       "1 -1.657168 -3.038443  \n",
       "2 -1.506844 -3.229141  \n",
       "3 -2.207640 -3.863362  \n",
       "4 -1.125133 -3.303394  "
      ]
     },
     "execution_count": 44,
     "metadata": {},
     "output_type": "execute_result"
    }
   ],
   "source": [
    "df.head()"
   ]
  },
  {
   "cell_type": "code",
   "execution_count": 48,
   "id": "28ef0d1a-73b7-48e2-aaad-89bd883d3b15",
   "metadata": {},
   "outputs": [],
   "source": [
    "def get_run_time(index, run_times):\n",
    "        runtime = run_times[index]\n",
    "        return(runtime)\n",
    "\n",
    "df['Run times'] = df.apply(lambda row: get_run_time(row['Index'], run_times), axis=1)"
   ]
  },
  {
   "cell_type": "code",
   "execution_count": 50,
   "id": "e500ca10-640e-47b2-888e-88475b49890d",
   "metadata": {},
   "outputs": [
    {
     "data": {
      "text/html": [
       "<div>\n",
       "<style scoped>\n",
       "    .dataframe tbody tr th:only-of-type {\n",
       "        vertical-align: middle;\n",
       "    }\n",
       "\n",
       "    .dataframe tbody tr th {\n",
       "        vertical-align: top;\n",
       "    }\n",
       "\n",
       "    .dataframe thead th {\n",
       "        text-align: right;\n",
       "    }\n",
       "</style>\n",
       "<table border=\"1\" class=\"dataframe\">\n",
       "  <thead>\n",
       "    <tr style=\"text-align: right;\">\n",
       "      <th></th>\n",
       "      <th>Index</th>\n",
       "      <th>PDB Code</th>\n",
       "      <th>SMILES Chemical Structure</th>\n",
       "      <th>Best</th>\n",
       "      <th>Mean</th>\n",
       "      <th>Run times</th>\n",
       "    </tr>\n",
       "  </thead>\n",
       "  <tbody>\n",
       "    <tr>\n",
       "      <th>0</th>\n",
       "      <td>24</td>\n",
       "      <td>tmp-pdb-7RDY</td>\n",
       "      <td>CC1(C)CC[C@@]2(CC[C@]3(C)[C@@H]([C@@H]2C1)C(=O...</td>\n",
       "      <td>-1.276003</td>\n",
       "      <td>-2.959810</td>\n",
       "      <td>186.949163</td>\n",
       "    </tr>\n",
       "    <tr>\n",
       "      <th>1</th>\n",
       "      <td>29</td>\n",
       "      <td>tmp-pdb-7RDY</td>\n",
       "      <td>[H][C@@]12[C@@H]3SC[C@]4(NCCC5=C4C=C(OC)C(O)=C...</td>\n",
       "      <td>-1.657168</td>\n",
       "      <td>-3.038443</td>\n",
       "      <td>228.506670</td>\n",
       "    </tr>\n",
       "    <tr>\n",
       "      <th>2</th>\n",
       "      <td>36</td>\n",
       "      <td>tmp-pdb-7RDY</td>\n",
       "      <td>[H][C@@]12N(C)C3=CC(OC)=C(C=C3[C@@]11CCN3CC=C[...</td>\n",
       "      <td>-1.506844</td>\n",
       "      <td>-3.229141</td>\n",
       "      <td>234.904322</td>\n",
       "    </tr>\n",
       "    <tr>\n",
       "      <th>3</th>\n",
       "      <td>35</td>\n",
       "      <td>tmp-pdb-7RDY</td>\n",
       "      <td>O[C@@H]1[C@@H](O)[C@@H](CC2=CC=CC=C2)N(CC2=CC=...</td>\n",
       "      <td>-2.207640</td>\n",
       "      <td>-3.863362</td>\n",
       "      <td>250.779892</td>\n",
       "    </tr>\n",
       "    <tr>\n",
       "      <th>4</th>\n",
       "      <td>38</td>\n",
       "      <td>tmp-pdb-7RDY</td>\n",
       "      <td>C[C@@H]1C[C@H]2[C@@H]3CCC4=CC(=O)C=C[C@]4(C)C3...</td>\n",
       "      <td>-1.125133</td>\n",
       "      <td>-3.303394</td>\n",
       "      <td>205.826515</td>\n",
       "    </tr>\n",
       "  </tbody>\n",
       "</table>\n",
       "</div>"
      ],
      "text/plain": [
       "   Index      PDB Code                          SMILES Chemical Structure  \\\n",
       "0     24  tmp-pdb-7RDY  CC1(C)CC[C@@]2(CC[C@]3(C)[C@@H]([C@@H]2C1)C(=O...   \n",
       "1     29  tmp-pdb-7RDY  [H][C@@]12[C@@H]3SC[C@]4(NCCC5=C4C=C(OC)C(O)=C...   \n",
       "2     36  tmp-pdb-7RDY  [H][C@@]12N(C)C3=CC(OC)=C(C=C3[C@@]11CCN3CC=C[...   \n",
       "3     35  tmp-pdb-7RDY  O[C@@H]1[C@@H](O)[C@@H](CC2=CC=CC=C2)N(CC2=CC=...   \n",
       "4     38  tmp-pdb-7RDY  C[C@@H]1C[C@H]2[C@@H]3CCC4=CC(=O)C=C[C@]4(C)C3...   \n",
       "\n",
       "       Best      Mean   Run times  \n",
       "0 -1.276003 -2.959810  186.949163  \n",
       "1 -1.657168 -3.038443  228.506670  \n",
       "2 -1.506844 -3.229141  234.904322  \n",
       "3 -2.207640 -3.863362  250.779892  \n",
       "4 -1.125133 -3.303394  205.826515  "
      ]
     },
     "execution_count": 50,
     "metadata": {},
     "output_type": "execute_result"
    }
   ],
   "source": [
    "df.head()"
   ]
  },
  {
   "cell_type": "code",
   "execution_count": 56,
   "id": "b11cfb53-7c38-4cf3-a6ed-7e4a5319c784",
   "metadata": {},
   "outputs": [],
   "source": [
    "min_dist = []\n",
    "\n",
    "for i in range(len(min_self_dist)):\n",
    "    min_dist.append(min(min_self_dist[i]))"
   ]
  },
  {
   "cell_type": "code",
   "execution_count": 58,
   "id": "ad786019-a770-4cf5-88d7-b610fbe4faf3",
   "metadata": {},
   "outputs": [
    {
     "data": {
      "text/plain": [
       "55"
      ]
     },
     "execution_count": 58,
     "metadata": {},
     "output_type": "execute_result"
    }
   ],
   "source": [
    "len(min_dist)"
   ]
  },
  {
   "cell_type": "code",
   "execution_count": 66,
   "id": "197acd61-9000-45a8-a7e9-daacffac09e7",
   "metadata": {},
   "outputs": [],
   "source": [
    "df.sort_values(by=['Index'], inplace = True)"
   ]
  },
  {
   "cell_type": "code",
   "execution_count": 67,
   "id": "6d2b1589-dfbb-4372-8cbf-99ef20db0be2",
   "metadata": {},
   "outputs": [
    {
     "data": {
      "text/html": [
       "<div>\n",
       "<style scoped>\n",
       "    .dataframe tbody tr th:only-of-type {\n",
       "        vertical-align: middle;\n",
       "    }\n",
       "\n",
       "    .dataframe tbody tr th {\n",
       "        vertical-align: top;\n",
       "    }\n",
       "\n",
       "    .dataframe thead th {\n",
       "        text-align: right;\n",
       "    }\n",
       "</style>\n",
       "<table border=\"1\" class=\"dataframe\">\n",
       "  <thead>\n",
       "    <tr style=\"text-align: right;\">\n",
       "      <th></th>\n",
       "      <th>Index</th>\n",
       "      <th>PDB Code</th>\n",
       "      <th>SMILES Chemical Structure</th>\n",
       "      <th>Best</th>\n",
       "      <th>Mean</th>\n",
       "      <th>Run times</th>\n",
       "      <th>Min self distances</th>\n",
       "    </tr>\n",
       "  </thead>\n",
       "  <tbody>\n",
       "    <tr>\n",
       "      <th>8</th>\n",
       "      <td>0</td>\n",
       "      <td>tmp-pdb-7RDY</td>\n",
       "      <td>NC1=NC=NC2=C1N=CN2[C@@H]1O[C@@H]2CO[P@](S)(=O)...</td>\n",
       "      <td>-1.257020</td>\n",
       "      <td>-2.463142</td>\n",
       "      <td>226.951520</td>\n",
       "      <td>1.251005</td>\n",
       "    </tr>\n",
       "    <tr>\n",
       "      <th>30</th>\n",
       "      <td>1</td>\n",
       "      <td>tmp-pdb-7RDY</td>\n",
       "      <td>[H][C@@]12CC[C@]3(C)[C@]([H])(CCC4=C5CC(C)(C)C...</td>\n",
       "      <td>-1.452247</td>\n",
       "      <td>-3.132486</td>\n",
       "      <td>170.946050</td>\n",
       "      <td>1.234463</td>\n",
       "    </tr>\n",
       "    <tr>\n",
       "      <th>49</th>\n",
       "      <td>2</td>\n",
       "      <td>tmp-pdb-7RDY</td>\n",
       "      <td>[H][C@@]1(CC[C@]2(O)[C@]3([H])CCC4=C[C@]([H])(...</td>\n",
       "      <td>-1.473806</td>\n",
       "      <td>-2.746019</td>\n",
       "      <td>193.545979</td>\n",
       "      <td>1.069148</td>\n",
       "    </tr>\n",
       "    <tr>\n",
       "      <th>7</th>\n",
       "      <td>3</td>\n",
       "      <td>tmp-pdb-7RDY</td>\n",
       "      <td>CC1(C)CCC2(CC1)N[C@H]([C@H](C1=C(F)C(Cl)=NC=C1...</td>\n",
       "      <td>-1.515139</td>\n",
       "      <td>-3.046909</td>\n",
       "      <td>201.739631</td>\n",
       "      <td>1.254225</td>\n",
       "    </tr>\n",
       "    <tr>\n",
       "      <th>20</th>\n",
       "      <td>4</td>\n",
       "      <td>tmp-pdb-7RDY</td>\n",
       "      <td>[H][C@@]12CC3=CC(OC4=CC=C(C[C@]5([H])N(C)CCC6=...</td>\n",
       "      <td>-1.330953</td>\n",
       "      <td>-3.106141</td>\n",
       "      <td>204.903096</td>\n",
       "      <td>1.311214</td>\n",
       "    </tr>\n",
       "  </tbody>\n",
       "</table>\n",
       "</div>"
      ],
      "text/plain": [
       "    Index      PDB Code                          SMILES Chemical Structure  \\\n",
       "8       0  tmp-pdb-7RDY  NC1=NC=NC2=C1N=CN2[C@@H]1O[C@@H]2CO[P@](S)(=O)...   \n",
       "30      1  tmp-pdb-7RDY  [H][C@@]12CC[C@]3(C)[C@]([H])(CCC4=C5CC(C)(C)C...   \n",
       "49      2  tmp-pdb-7RDY  [H][C@@]1(CC[C@]2(O)[C@]3([H])CCC4=C[C@]([H])(...   \n",
       "7       3  tmp-pdb-7RDY  CC1(C)CCC2(CC1)N[C@H]([C@H](C1=C(F)C(Cl)=NC=C1...   \n",
       "20      4  tmp-pdb-7RDY  [H][C@@]12CC3=CC(OC4=CC=C(C[C@]5([H])N(C)CCC6=...   \n",
       "\n",
       "        Best      Mean   Run times  Min self distances  \n",
       "8  -1.257020 -2.463142  226.951520            1.251005  \n",
       "30 -1.452247 -3.132486  170.946050            1.234463  \n",
       "49 -1.473806 -2.746019  193.545979            1.069148  \n",
       "7  -1.515139 -3.046909  201.739631            1.254225  \n",
       "20 -1.330953 -3.106141  204.903096            1.311214  "
      ]
     },
     "execution_count": 67,
     "metadata": {},
     "output_type": "execute_result"
    }
   ],
   "source": [
    "df.head()"
   ]
  },
  {
   "cell_type": "code",
   "execution_count": 69,
   "id": "927fdba0-97fa-483a-8bb2-7eb29ebc9be7",
   "metadata": {},
   "outputs": [],
   "source": [
    "df = df.drop(['Min self distances'], axis=1)"
   ]
  },
  {
   "cell_type": "code",
   "execution_count": 70,
   "id": "945dd338-aea2-48d9-a3b8-55b0c79c0698",
   "metadata": {},
   "outputs": [
    {
     "data": {
      "text/html": [
       "<div>\n",
       "<style scoped>\n",
       "    .dataframe tbody tr th:only-of-type {\n",
       "        vertical-align: middle;\n",
       "    }\n",
       "\n",
       "    .dataframe tbody tr th {\n",
       "        vertical-align: top;\n",
       "    }\n",
       "\n",
       "    .dataframe thead th {\n",
       "        text-align: right;\n",
       "    }\n",
       "</style>\n",
       "<table border=\"1\" class=\"dataframe\">\n",
       "  <thead>\n",
       "    <tr style=\"text-align: right;\">\n",
       "      <th></th>\n",
       "      <th>Index</th>\n",
       "      <th>PDB Code</th>\n",
       "      <th>SMILES Chemical Structure</th>\n",
       "      <th>Best</th>\n",
       "      <th>Mean</th>\n",
       "      <th>Run times</th>\n",
       "    </tr>\n",
       "  </thead>\n",
       "  <tbody>\n",
       "    <tr>\n",
       "      <th>8</th>\n",
       "      <td>0</td>\n",
       "      <td>tmp-pdb-7RDY</td>\n",
       "      <td>NC1=NC=NC2=C1N=CN2[C@@H]1O[C@@H]2CO[P@](S)(=O)...</td>\n",
       "      <td>-1.257020</td>\n",
       "      <td>-2.463142</td>\n",
       "      <td>226.951520</td>\n",
       "    </tr>\n",
       "    <tr>\n",
       "      <th>30</th>\n",
       "      <td>1</td>\n",
       "      <td>tmp-pdb-7RDY</td>\n",
       "      <td>[H][C@@]12CC[C@]3(C)[C@]([H])(CCC4=C5CC(C)(C)C...</td>\n",
       "      <td>-1.452247</td>\n",
       "      <td>-3.132486</td>\n",
       "      <td>170.946050</td>\n",
       "    </tr>\n",
       "    <tr>\n",
       "      <th>49</th>\n",
       "      <td>2</td>\n",
       "      <td>tmp-pdb-7RDY</td>\n",
       "      <td>[H][C@@]1(CC[C@]2(O)[C@]3([H])CCC4=C[C@]([H])(...</td>\n",
       "      <td>-1.473806</td>\n",
       "      <td>-2.746019</td>\n",
       "      <td>193.545979</td>\n",
       "    </tr>\n",
       "    <tr>\n",
       "      <th>7</th>\n",
       "      <td>3</td>\n",
       "      <td>tmp-pdb-7RDY</td>\n",
       "      <td>CC1(C)CCC2(CC1)N[C@H]([C@H](C1=C(F)C(Cl)=NC=C1...</td>\n",
       "      <td>-1.515139</td>\n",
       "      <td>-3.046909</td>\n",
       "      <td>201.739631</td>\n",
       "    </tr>\n",
       "    <tr>\n",
       "      <th>20</th>\n",
       "      <td>4</td>\n",
       "      <td>tmp-pdb-7RDY</td>\n",
       "      <td>[H][C@@]12CC3=CC(OC4=CC=C(C[C@]5([H])N(C)CCC6=...</td>\n",
       "      <td>-1.330953</td>\n",
       "      <td>-3.106141</td>\n",
       "      <td>204.903096</td>\n",
       "    </tr>\n",
       "  </tbody>\n",
       "</table>\n",
       "</div>"
      ],
      "text/plain": [
       "    Index      PDB Code                          SMILES Chemical Structure  \\\n",
       "8       0  tmp-pdb-7RDY  NC1=NC=NC2=C1N=CN2[C@@H]1O[C@@H]2CO[P@](S)(=O)...   \n",
       "30      1  tmp-pdb-7RDY  [H][C@@]12CC[C@]3(C)[C@]([H])(CCC4=C5CC(C)(C)C...   \n",
       "49      2  tmp-pdb-7RDY  [H][C@@]1(CC[C@]2(O)[C@]3([H])CCC4=C[C@]([H])(...   \n",
       "7       3  tmp-pdb-7RDY  CC1(C)CCC2(CC1)N[C@H]([C@H](C1=C(F)C(Cl)=NC=C1...   \n",
       "20      4  tmp-pdb-7RDY  [H][C@@]12CC3=CC(OC4=CC=C(C[C@]5([H])N(C)CCC6=...   \n",
       "\n",
       "        Best      Mean   Run times  \n",
       "8  -1.257020 -2.463142  226.951520  \n",
       "30 -1.452247 -3.132486  170.946050  \n",
       "49 -1.473806 -2.746019  193.545979  \n",
       "7  -1.515139 -3.046909  201.739631  \n",
       "20 -1.330953 -3.106141  204.903096  "
      ]
     },
     "execution_count": 70,
     "metadata": {},
     "output_type": "execute_result"
    }
   ],
   "source": [
    "df.head()"
   ]
  },
  {
   "cell_type": "code",
   "execution_count": 71,
   "id": "0fffdc7f-c9ee-437a-b96e-c4bd9f5ca265",
   "metadata": {},
   "outputs": [],
   "source": [
    "df['Min self distances'] = min_dist"
   ]
  },
  {
   "cell_type": "code",
   "execution_count": 72,
   "id": "be1eec88-89db-46d5-8166-60f650f7824b",
   "metadata": {},
   "outputs": [
    {
     "data": {
      "text/html": [
       "<div>\n",
       "<style scoped>\n",
       "    .dataframe tbody tr th:only-of-type {\n",
       "        vertical-align: middle;\n",
       "    }\n",
       "\n",
       "    .dataframe tbody tr th {\n",
       "        vertical-align: top;\n",
       "    }\n",
       "\n",
       "    .dataframe thead th {\n",
       "        text-align: right;\n",
       "    }\n",
       "</style>\n",
       "<table border=\"1\" class=\"dataframe\">\n",
       "  <thead>\n",
       "    <tr style=\"text-align: right;\">\n",
       "      <th></th>\n",
       "      <th>Index</th>\n",
       "      <th>PDB Code</th>\n",
       "      <th>SMILES Chemical Structure</th>\n",
       "      <th>Best</th>\n",
       "      <th>Mean</th>\n",
       "      <th>Run times</th>\n",
       "      <th>Min self distances</th>\n",
       "    </tr>\n",
       "  </thead>\n",
       "  <tbody>\n",
       "    <tr>\n",
       "      <th>8</th>\n",
       "      <td>0</td>\n",
       "      <td>tmp-pdb-7RDY</td>\n",
       "      <td>NC1=NC=NC2=C1N=CN2[C@@H]1O[C@@H]2CO[P@](S)(=O)...</td>\n",
       "      <td>-1.257020</td>\n",
       "      <td>-2.463142</td>\n",
       "      <td>226.951520</td>\n",
       "      <td>1.323899</td>\n",
       "    </tr>\n",
       "    <tr>\n",
       "      <th>30</th>\n",
       "      <td>1</td>\n",
       "      <td>tmp-pdb-7RDY</td>\n",
       "      <td>[H][C@@]12CC[C@]3(C)[C@]([H])(CCC4=C5CC(C)(C)C...</td>\n",
       "      <td>-1.452247</td>\n",
       "      <td>-3.132486</td>\n",
       "      <td>170.946050</td>\n",
       "      <td>1.298985</td>\n",
       "    </tr>\n",
       "    <tr>\n",
       "      <th>49</th>\n",
       "      <td>2</td>\n",
       "      <td>tmp-pdb-7RDY</td>\n",
       "      <td>[H][C@@]1(CC[C@]2(O)[C@]3([H])CCC4=C[C@]([H])(...</td>\n",
       "      <td>-1.473806</td>\n",
       "      <td>-2.746019</td>\n",
       "      <td>193.545979</td>\n",
       "      <td>1.257796</td>\n",
       "    </tr>\n",
       "    <tr>\n",
       "      <th>7</th>\n",
       "      <td>3</td>\n",
       "      <td>tmp-pdb-7RDY</td>\n",
       "      <td>CC1(C)CCC2(CC1)N[C@H]([C@H](C1=C(F)C(Cl)=NC=C1...</td>\n",
       "      <td>-1.515139</td>\n",
       "      <td>-3.046909</td>\n",
       "      <td>201.739631</td>\n",
       "      <td>1.255977</td>\n",
       "    </tr>\n",
       "    <tr>\n",
       "      <th>20</th>\n",
       "      <td>4</td>\n",
       "      <td>tmp-pdb-7RDY</td>\n",
       "      <td>[H][C@@]12CC3=CC(OC4=CC=C(C[C@]5([H])N(C)CCC6=...</td>\n",
       "      <td>-1.330953</td>\n",
       "      <td>-3.106141</td>\n",
       "      <td>204.903096</td>\n",
       "      <td>1.347190</td>\n",
       "    </tr>\n",
       "  </tbody>\n",
       "</table>\n",
       "</div>"
      ],
      "text/plain": [
       "    Index      PDB Code                          SMILES Chemical Structure  \\\n",
       "8       0  tmp-pdb-7RDY  NC1=NC=NC2=C1N=CN2[C@@H]1O[C@@H]2CO[P@](S)(=O)...   \n",
       "30      1  tmp-pdb-7RDY  [H][C@@]12CC[C@]3(C)[C@]([H])(CCC4=C5CC(C)(C)C...   \n",
       "49      2  tmp-pdb-7RDY  [H][C@@]1(CC[C@]2(O)[C@]3([H])CCC4=C[C@]([H])(...   \n",
       "7       3  tmp-pdb-7RDY  CC1(C)CCC2(CC1)N[C@H]([C@H](C1=C(F)C(Cl)=NC=C1...   \n",
       "20      4  tmp-pdb-7RDY  [H][C@@]12CC3=CC(OC4=CC=C(C[C@]5([H])N(C)CCC6=...   \n",
       "\n",
       "        Best      Mean   Run times  Min self distances  \n",
       "8  -1.257020 -2.463142  226.951520            1.323899  \n",
       "30 -1.452247 -3.132486  170.946050            1.298985  \n",
       "49 -1.473806 -2.746019  193.545979            1.257796  \n",
       "7  -1.515139 -3.046909  201.739631            1.255977  \n",
       "20 -1.330953 -3.106141  204.903096            1.347190  "
      ]
     },
     "execution_count": 72,
     "metadata": {},
     "output_type": "execute_result"
    }
   ],
   "source": [
    "df.head()"
   ]
  },
  {
   "cell_type": "code",
   "execution_count": 76,
   "id": "500f65af-eeb7-48de-949a-53056488b42f",
   "metadata": {},
   "outputs": [],
   "source": [
    "df.to_csv('Diffdock_results.csv', index = False)"
   ]
  },
  {
   "cell_type": "code",
   "execution_count": null,
   "id": "821fdb36-08e2-4ebd-ab40-05cabb377084",
   "metadata": {},
   "outputs": [],
   "source": []
  }
 ],
 "metadata": {
  "kernelspec": {
   "display_name": "Python 3 (ipykernel)",
   "language": "python",
   "name": "python3"
  },
  "language_info": {
   "codemirror_mode": {
    "name": "ipython",
    "version": 3
   },
   "file_extension": ".py",
   "mimetype": "text/x-python",
   "name": "python",
   "nbconvert_exporter": "python",
   "pygments_lexer": "ipython3",
   "version": "3.11.5"
  }
 },
 "nbformat": 4,
 "nbformat_minor": 5
}
