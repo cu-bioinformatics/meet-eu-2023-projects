import numpy as np
import pandas as pd


confidences = np.load('user_predictions_small/confidences.npy')


min_self_dist = np.load('user_predictions_small/min_self_distances.npy')


run_times = np.load('user_predictions_small/run_times.npy')


print( len(confidences),len(min_self_dist), len(run_times))


df = pd.read_csv('/Users/faflik/Projects/MoleculeScreen/Data/raw_data/Diffdock/extracted_data.csv')


df.head()


# Function to get the minimum and mean of the confidence list
def get_confidence_stats(index, confidences):
    confidence_list = confidences[index]
    best = np.max(confidence_list)
    mean = np.mean(confidence_list)
    return pd.Series([best, mean])

# Applying the function and adding the results to the DataFrame
df[['Best', 'Mean']] = df.apply(lambda row: get_confidence_stats(row['Index'], confidences), axis=1)


df.head()


def get_run_time(index, run_times):
        runtime = run_times[index]
        return(runtime)

df['Run times'] = df.apply(lambda row: get_run_time(row['Index'], run_times), axis=1)


df.head()


min_dist = []

for i in range(len(min_self_dist)):
    min_dist.append(min(min_self_dist[i]))


len(min_dist)


df.sort_values(by=['Index'], inplace = True)


df.head()


df = df.drop(['Min self distances'], axis=1)


df.head()


df['Min self distances'] = min_dist


df.head()


df.to_csv('Diffdock_results.csv', index = False)



