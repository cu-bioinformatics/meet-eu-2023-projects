{
 "cells": [
  {
   "cell_type": "code",
   "execution_count": null,
   "id": "51260fb6-3562-485d-b2be-48546a516c9b",
   "metadata": {},
   "outputs": [],
   "source": [
    "import pandas as pd\n",
    "from pathlib import Path\n",
    "import os\n",
    "from collections import Counter\n",
    "import math"
   ]
  },
  {
   "cell_type": "code",
   "execution_count": null,
   "id": "00d3540c-9664-44a5-b176-1d97e439694e",
   "metadata": {},
   "outputs": [],
   "source": [
    "def select_row(df,row,values):\n",
    "    if type(values)==list:\n",
    "        mask = df[row].isin(values)\n",
    "    elif type(values) in [int,float,str]:\n",
    "        mask = df[row] == values\n",
    "    return df[mask]\n",
    "def get_glide_results(ligand_list):\n",
    "    if type(ligand_list) in [str]:\n",
    "        ligand_list=[ligand_list]\n",
    "    rows = select_row(docking_results,\"Title\",ligand_list)\n",
    "    scores = list(rows[\"docking score\"].values )\n",
    "    return [min(scores)]"
   ]
  },
  {
   "cell_type": "code",
   "execution_count": null,
   "id": "265bbce5-7d7e-4c2d-9405-136b16daf1e6",
   "metadata": {},
   "outputs": [],
   "source": [
    "path=Path(\"/home/selina/docking/Glide/spreadsheet\")\n",
    "glide_results=pd.read_csv(path/\"glide_docking_all.csv\")\n",
    "\n",
    "receptor=\"6zsl_monomer_a\"\n",
    "top_scorer=Path(\"/home/selina/docking/analysis\")\n",
    "top_scorer=[[str(a),str(b)] for a,b in pd.read_csv(top_scorer/receptor/\"top_100_ligands.csv\")[[\"ZINC\",\"ECBD\"]].values]"
   ]
  },
  {
   "cell_type": "code",
   "execution_count": null,
   "id": "cde49374-9d0b-4000-9fda-1be77f544c1d",
   "metadata": {
    "scrolled": true
   },
   "outputs": [],
   "source": [
    "# glide_results=glide_results[['Title', 'docking score','glide gscore','eos','pubchem','zinc','smiles','formula','Chemistry Notes']]\n",
    "glide_results=glide_results[['Title', 'docking score','glide gscore','eos','pubchem','zinc','smiles','formula']]\n",
    "start_id=max(glide_results[glide_results[\"Title\"].apply(lambda x: x.startswith(\"6zsl\"))].index)\n",
    "all_glide_results=glide_results.loc[start_id+1:].reset_index(drop=True)\n",
    "docking_results=all_glide_results[~all_glide_results[\"Title\"].isin([\"ATP\",\"ADP\"])].sort_values(\"docking score\")\n",
    "all_glide_results.head(3)"
   ]
  },
  {
   "cell_type": "code",
   "execution_count": null,
   "id": "6c207419-a715-456d-87de-37933521732f",
   "metadata": {},
   "outputs": [],
   "source": [
    "max_index = all_glide_results.groupby([\"Title\"]).apply(\n",
    "    lambda x: list(x.index[x[\"docking score\"]!=min(x[\"docking score\"])]))\n",
    "doubles = {k:v for k,v in Counter(all_glide_results[all_glide_results.duplicated([\"Title\"],keep=False)][\"Title\"]).items() \n",
    "                  if not str(k) == \"nan\"}\n",
    "all_glide_results=all_glide_results.drop([x for xs in [i for i in max_index.values] for x in xs])\n",
    "all_glide_results=all_glide_results.sort_values(\"docking score\").reset_index(drop=True)\n",
    "all_glide_results.head(3)"
   ]
  },
  {
   "cell_type": "code",
   "execution_count": null,
   "id": "da37ac95-012a-477d-a10a-9da57c828120",
   "metadata": {},
   "outputs": [],
   "source": [
    "max_index = docking_results.groupby([\"Title\"]).apply(\n",
    "    lambda x: list(x.index[x[\"docking score\"]!=min(x[\"docking score\"])]))\n",
    "doubles = {k:v for k,v in Counter(docking_results[docking_results.duplicated([\"Title\"],keep=False)][\"Title\"]).items() \n",
    "                  if not str(k) == \"nan\"}\n",
    "docking_results=docking_results.drop([x for xs in [i for i in max_index.values] for x in xs]).reset_index(drop=True)\n",
    "docking_results.head(3)"
   ]
  },
  {
   "cell_type": "code",
   "execution_count": null,
   "id": "ac5e4bb9-72fb-4f05-9f47-9146cb890551",
   "metadata": {},
   "outputs": [],
   "source": [
    "docking_score=pd.DataFrame([t+get_glide_results(t) for t in top_scorer if get_docking_score(t) != []],\n",
    "                           columns=[\"ZINC\",\"ECBD\",\"docking score\"]\n",
    "                          ).sort_values(\"docking score\").reset_index(drop=True)\n",
    "docking_score=docking_score.reset_index()\n",
    "docking_score.head()"
   ]
  },
  {
   "cell_type": "code",
   "execution_count": null,
   "id": "5ab71048-e710-4fa8-9a0f-f67fc120ddf6",
   "metadata": {
    "scrolled": true
   },
   "outputs": [],
   "source": [
    "docking_score.to_csv(\"./top100_docking_scores.csv\",index=False)\n",
    "all_glide_results.reset_index(drop=False).to_csv(\"./all_docking_results.csv\",index=False)"
   ]
  }
 ],
 "metadata": {
  "kernelspec": {
   "display_name": "Python 3 (ipykernel)",
   "language": "python",
   "name": "python3"
  },
  "language_info": {
   "codemirror_mode": {
    "name": "ipython",
    "version": 3
   },
   "file_extension": ".py",
   "mimetype": "text/x-python",
   "name": "python",
   "nbconvert_exporter": "python",
   "pygments_lexer": "ipython3",
   "version": "3.11.5"
  }
 },
 "nbformat": 4,
 "nbformat_minor": 5
}
