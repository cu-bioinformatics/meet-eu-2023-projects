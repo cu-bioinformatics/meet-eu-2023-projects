{
 "cells": [
  {
   "cell_type": "markdown",
   "metadata": {},
   "source": [
    "All exploratory work was done on this notbook."
   ]
  },
  {
   "cell_type": "markdown",
   "metadata": {},
   "source": [
    "### Libraries"
   ]
  },
  {
   "cell_type": "code",
   "execution_count": 32,
   "metadata": {},
   "outputs": [],
   "source": [
    "from Bio.PDB import PDBList\n",
    "import subprocess\n",
    "import pandas as pd\n",
    "from rdkit import Chem\n",
    "from rdkit.Chem import AllChem\n",
    "import os\n",
    "import shutil\n",
    "import json\n",
    "from tqdm import tqdm "
   ]
  },
  {
   "cell_type": "markdown",
   "metadata": {},
   "source": [
    "### 1. Download NSP13 structure"
   ]
  },
  {
   "cell_type": "code",
   "execution_count": 33,
   "metadata": {},
   "outputs": [],
   "source": [
    "def retrieve_nsp13(structure):\n",
    "    \"\"\"Download a NSP13 structure from the PDB\n",
    "    Returns\n",
    "    -------\n",
    "    structure : .cif file of the structure\n",
    "    \"\"\"\n",
    "    pdbl = PDBList()\n",
    "    pdbl.download_pdb_files([structure], pdir=\"NSP13\", file_format=\"pdb\")\n",
    "    # .ent is another valid extension for pdb files. BioPython uses this extension\n",
    "    fpath = f\"./NSP13/pdb{structure}.ent\"\n",
    "    with open(fpath) as f:\n",
    "        return f.read()"
   ]
  },
  {
   "cell_type": "markdown",
   "metadata": {},
   "source": [
    "### 2. Convert protein to .pdbqt file"
   ]
  },
  {
   "cell_type": "code",
   "execution_count": 34,
   "metadata": {},
   "outputs": [],
   "source": [
    "def nsp13_pdb_to_pdbqt(structure_name, pdb_content_lines):\n",
    "    structure_pdb = f\"./NSP13/{structure_name}.ent\"\n",
    "    structure_pdbqt = f\"./NSP13/{structure_name}.pdbqt\"\n",
    "    \n",
    "     # Convertis la liste de lignes en une seule chaîne\n",
    "    pdb_content = '\\n'.join(pdb_content_lines)\n",
    "    \n",
    "    with open(structure_pdb, 'w') as f:\n",
    "        f.write(pdb_content)\n",
    "    \n",
    "    subprocess.run(['babel', structure_pdb, '-O', structure_pdbqt])\n",
    "    \n",
    "    return structure_pdbqt"
   ]
  },
  {
   "cell_type": "markdown",
   "metadata": {},
   "source": [
    "### 3. Generate pocket with P2rank"
   ]
  },
  {
   "cell_type": "code",
   "execution_count": 35,
   "metadata": {},
   "outputs": [],
   "source": [
    "def generate_pocket():\n",
    "\n",
    "    # Path to the p2rank script (prank.sh)\n",
    "    p2rank_path = './p2rank/prank.sh'\n",
    "\n",
    "    # Path to Git Bash for the Windows environment (to be replaced or improved if necessary)\n",
    "    bash_path = 'c:/PROGRA~1/Git/bin/bash.exe'  # Make sure to set the correct path\n",
    "\n",
    "    # Folder to store pocket prediction results\n",
    "    output_folder = './pockets'\n",
    "\n",
    "    # Command to execute p2rank and predict pockets\n",
    "    command = f'{bash_path} {p2rank_path} predict -f ./NSP13/6zsl.cif -o {output_folder}'\n",
    "\n",
    "    # Execution of the command\n",
    "    subprocess.run(command, shell=True)"
   ]
  },
  {
   "cell_type": "code",
   "execution_count": 21,
   "metadata": {},
   "outputs": [],
   "source": [
    "generate_pocket()"
   ]
  },
  {
   "cell_type": "markdown",
   "metadata": {},
   "source": [
    "### 4. Retrieve the coordinates of the pocket"
   ]
  },
  {
   "cell_type": "code",
   "execution_count": 5,
   "metadata": {},
   "outputs": [],
   "source": [
    "def get_pocket_coordinates(pocket_number):\n",
    "    pocket_path = './pockets/6zsl.cif_predictions.csv'\n",
    "    pockets_df = pd.read_csv(pocket_path)\n",
    "    pockets_df.columns = [col.strip() for col in pockets_df.columns]\n",
    "    best_pocket = pockets_df.query(f\"rank == {pocket_number}\") \n",
    "    (center_x, center_y, center_z) = best_pocket[[\"center_x\", \"center_y\", \"center_z\"]].iloc[0]\n",
    "    return (center_x, center_y, center_z)"
   ]
  },
  {
   "cell_type": "markdown",
   "metadata": {},
   "source": [
    "4.bis. Display several pockets of the 6ZSL comformation"
   ]
  },
  {
   "cell_type": "code",
   "execution_count": 7,
   "metadata": {},
   "outputs": [
    {
     "data": {
      "text/html": [
       "<div>\n",
       "<style scoped>\n",
       "    .dataframe tbody tr th:only-of-type {\n",
       "        vertical-align: middle;\n",
       "    }\n",
       "\n",
       "    .dataframe tbody tr th {\n",
       "        vertical-align: top;\n",
       "    }\n",
       "\n",
       "    .dataframe thead th {\n",
       "        text-align: right;\n",
       "    }\n",
       "</style>\n",
       "<table border=\"1\" class=\"dataframe\">\n",
       "  <thead>\n",
       "    <tr style=\"text-align: right;\">\n",
       "      <th></th>\n",
       "      <th>name</th>\n",
       "      <th>rank</th>\n",
       "      <th>score</th>\n",
       "      <th>probability</th>\n",
       "      <th>sas_points</th>\n",
       "      <th>surf_atoms</th>\n",
       "      <th>center_x</th>\n",
       "      <th>center_y</th>\n",
       "      <th>center_z</th>\n",
       "      <th>residue_ids</th>\n",
       "      <th>surf_atom_ids</th>\n",
       "    </tr>\n",
       "  </thead>\n",
       "  <tbody>\n",
       "    <tr>\n",
       "      <th>0</th>\n",
       "      <td>pocket1</td>\n",
       "      <td>1</td>\n",
       "      <td>16.76</td>\n",
       "      <td>0.786</td>\n",
       "      <td>95</td>\n",
       "      <td>54</td>\n",
       "      <td>-13.6826</td>\n",
       "      <td>11.0843</td>\n",
       "      <td>-74.6564</td>\n",
       "      <td>A_284 A_285 A_287 A_288 A_289 A_290 A_312 A_3...</td>\n",
       "      <td>6511 6517 6518 6519 6520 6528 6529 6539 6540 ...</td>\n",
       "    </tr>\n",
       "    <tr>\n",
       "      <th>1</th>\n",
       "      <td>pocket2</td>\n",
       "      <td>2</td>\n",
       "      <td>12.94</td>\n",
       "      <td>0.668</td>\n",
       "      <td>84</td>\n",
       "      <td>38</td>\n",
       "      <td>-18.4473</td>\n",
       "      <td>34.5627</td>\n",
       "      <td>-22.8999</td>\n",
       "      <td>B_284 B_285 B_287 B_288 B_289 B_313 B_316 B_3...</td>\n",
       "      <td>2116 2122 2123 2133 2134 2137 2141 2144 2145 ...</td>\n",
       "    </tr>\n",
       "  </tbody>\n",
       "</table>\n",
       "</div>"
      ],
      "text/plain": [
       "   name         rank     score   probability   sas_points   surf_atoms  \\\n",
       "0  pocket1         1     16.76         0.786           95           54   \n",
       "1  pocket2         2     12.94         0.668           84           38   \n",
       "\n",
       "      center_x     center_y     center_z  \\\n",
       "0     -13.6826      11.0843     -74.6564   \n",
       "1     -18.4473      34.5627     -22.8999   \n",
       "\n",
       "                                         residue_ids  \\\n",
       "0   A_284 A_285 A_287 A_288 A_289 A_290 A_312 A_3...   \n",
       "1   B_284 B_285 B_287 B_288 B_289 B_313 B_316 B_3...   \n",
       "\n",
       "                                       surf_atom_ids  \n",
       "0   6511 6517 6518 6519 6520 6528 6529 6539 6540 ...  \n",
       "1   2116 2122 2123 2133 2134 2137 2141 2144 2145 ...  "
      ]
     },
     "execution_count": 7,
     "metadata": {},
     "output_type": "execute_result"
    }
   ],
   "source": [
    "csv = f'./pockets/6zsl.cif_predictions.csv'\n",
    "r_csv = pd.read_csv(csv)\n",
    "\n",
    "df = pd.DataFrame(r_csv)\n",
    "df.head(2)"
   ]
  },
  {
   "cell_type": "markdown",
   "metadata": {},
   "source": [
    "### 5. Download ligands from ZINC database"
   ]
  },
  {
   "cell_type": "code",
   "execution_count": 6,
   "metadata": {},
   "outputs": [],
   "source": [
    "def download_ligands():\n",
    "    downloader = f'./ligands-downloader/ligand_downloader.py'\n",
    "    subprocess.run(['python', downloader], capture_output=True, text=True)"
   ]
  },
  {
   "cell_type": "markdown",
   "metadata": {},
   "source": [
    "### 6. Preparation of the ligands with RDKIT\n",
    "\n",
    "Ajout d'hydrogènes, génération de conformation..."
   ]
  },
  {
   "cell_type": "code",
   "execution_count": 36,
   "metadata": {},
   "outputs": [],
   "source": [
    "def prepare_ligands():\n",
    "    #Lien avec le fichier csv contenant la liste des ligands à télécharger\n",
    "    csv_file = './ligands/ligands_downloader/csv_files/substances.csv'  \n",
    "    df = pd.read_csv(csv_file,sep = ';')\n",
    "\n",
    "    # Charger les fichiers SDF et préparer les ligands qu'on a téléchargé\n",
    "    ligands_folder = './ligands/zinc_database/'\n",
    "    os.makedirs(ligands_folder, exist_ok=True)\n",
    "\n",
    "    for zinc_id in df['zinc_id']:\n",
    "        sdf_file = f'{ligands_folder}/{zinc_id}.sdf'\n",
    "\n",
    "        # Charger les molécules depuis le fichier SDF\n",
    "        suppl = Chem.SDMolSupplier(sdf_file)\n",
    "        ligands = [mol for mol in suppl if mol is not None]\n",
    "\n",
    "        # Ajout des hydrogènes explicites et génération des conformations 3D\n",
    "        for mol in ligands:\n",
    "            mol = Chem.AddHs(mol)\n",
    "            AllChem.EmbedMolecule(mol)\n",
    "\n",
    "        # Sauvegarder les molécules modifiées\n",
    "\n",
    "        os.makedirs('./ligands/zinc_db_prepared/', exist_ok=True)\n",
    "        modified_sdf_file = f'./ligands/zinc_db_prepared/{zinc_id}_prepared.sdf'\n",
    "        w = Chem.SDWriter(modified_sdf_file)\n",
    "        for mol in ligands:\n",
    "            w.write(mol)\n",
    "        w.close()"
   ]
  },
  {
   "cell_type": "markdown",
   "metadata": {},
   "source": [
    "### 7. Convert ligands to .pdbqt with OpenBabel"
   ]
  },
  {
   "cell_type": "code",
   "execution_count": 8,
   "metadata": {},
   "outputs": [],
   "source": [
    "def convert_ligands_to_pdbqt():\n",
    "    # Chemin des fichiers SDF et dossier de sortie\n",
    "    ligands_folder = './ligands/zinc_db_prepared/'\n",
    "    output_folder = './ligands/zinc_db_pdbqt/'\n",
    "    os.makedirs(output_folder, exist_ok=True)\n",
    "\n",
    "    for zinc_id in df['zinc_id']:\n",
    "        sdf_file = f'{ligands_folder}/{zinc_id}_prepared.sdf'\n",
    "        output_pdbqt_file = f'{output_folder}/{zinc_id}_prepared.pdbqt'\n",
    "\n",
    "        # Utilisation de Open Babel pour convertir SDF en PDBQT\n",
    "        subprocess.run(['babel', sdf_file, '-O', output_pdbqt_file, '-xh'])  # -xh ajoute des hydrogènes si nécessaire\n",
    "\n",
    "        #print(f\"Fichier PDBQT généré pour {zinc_id}\")"
   ]
  },
  {
   "cell_type": "markdown",
   "metadata": {},
   "source": [
    "### 8. Generate configuration file for docking with AutoDocks Vina"
   ]
  },
  {
   "cell_type": "code",
   "execution_count": 9,
   "metadata": {},
   "outputs": [],
   "source": [
    "def generate_config_file(center_x, center_y, center_z, fname_ligand):\n",
    "    \"\"\"generate configuration files for a ligand\n",
    "    \"\"\"\n",
    "    ligand_name = fname_ligand.split(\"_\")[0]\n",
    "    config = f\"\"\"receptor = 6zsl.pdbqt\n",
    "ligand = {fname_ligand}\n",
    "\n",
    "center_x = {center_x}\n",
    "center_y = {center_y}\n",
    "center_z = {center_z}\n",
    "\n",
    "size_x = 20\n",
    "size_y = 20\n",
    "size_z = 20\n",
    "\n",
    "out = docking_output/output_{ligand_name}.pdbqt\n",
    "log = docking_output/logs_{ligand_name}.txt\n",
    "num_modes = 10\n",
    "energy_range = 4\"\"\"\n",
    "\n",
    "    os.makedirs(\"dockingjob\", exist_ok=True)\n",
    "\n",
    "    file_path = f\"dockingjob/config.txt\"\n",
    "    with open(file_path, \"w\") as file:\n",
    "        file.write(config)\n"
   ]
  },
  {
   "cell_type": "markdown",
   "metadata": {},
   "source": [
    "### 9. Run molecular docking"
   ]
  },
  {
   "cell_type": "code",
   "execution_count": 14,
   "metadata": {},
   "outputs": [],
   "source": [
    "def run_docking(center_x, center_y, center_z, fname_ligand):\n",
    "    \"\"\"For the docking, the following files have to be in the folder dockingjob:\n",
    "        -the protein, in format .pdbqt\n",
    "        -the ligand, in format .pdbqt\n",
    "        -the config file, in format.txt\n",
    "\n",
    "    The output of the docking is saved at dockingjob/docking_output\n",
    "    \"\"\"\n",
    "    # Remove the previous .pdbqt file\n",
    "    previous_docking_ligand = [f for f in os.listdir(\"dockingjob\") if f.endswith(\".pdbqt\") and \"ZINC\" in f]\n",
    "    if previous_docking_ligand:\n",
    "        fpath_ligand_to_remove = os.path.join(\"dockingjob\", previous_docking_ligand[0])\n",
    "        os.remove(fpath_ligand_to_remove)\n",
    "    \n",
    "    # Add the ligand to use for docking\n",
    "    fpath_ligand = f\"ligands/validation_ligands_db_prepared/{fname_ligand}\"\n",
    "    shutil.copy2(fpath_ligand, \"dockingjob\")\n",
    "\n",
    "    # Generate config file\n",
    "    generate_config_file(center_x, center_y, center_z, fname_ligand)\n",
    "\n",
    "    # Run docking\n",
    "    os.makedirs(\"dockingjob/docking_output\", exist_ok=True)\n",
    "    vina_path = \"../Meet-U-2023-2024/dockingjob/vina/vina.exe\"\n",
    "    subprocess.run([vina_path, \"--config\", \"config.txt\"], capture_output=False, text=True, cwd=\"dockingjob\")\n",
    "\n",
    "\n",
    "def run_docking_for_all_ligands(test=True):\n",
    "    ligands_folder = \"ligands/validation_ligands_db_prepared\"\n",
    "    fname_ligands = [f for f in os.listdir(ligands_folder) if f.endswith(\".pdbqt\")]\n",
    "\n",
    "    # Always use the same pocket\n",
    "    center_x, center_y, center_z = get_pocket_coordinates(pocket_number=1)\n",
    "    for i, fname_ligand in tqdm(enumerate(fname_ligands), total=len(fname_ligands)):\n",
    "        #print(f\"Running docking for {fname_ligand.split('_')[0]}...\")\n",
    "        run_docking(center_x, center_y, center_z, fname_ligand)\n",
    "        if test and i == 2:\n",
    "            break"
   ]
  },
  {
   "cell_type": "markdown",
   "metadata": {},
   "source": [
    "### 10. Retrieve docking results and score"
   ]
  },
  {
   "cell_type": "code",
   "execution_count": 11,
   "metadata": {},
   "outputs": [],
   "source": [
    "def retrieve_docking_results():\n",
    "    all_scores = {}\n",
    "    results_folder = \"dockingjob/docking_output\"\n",
    "    results_fname = [f for f in os.listdir(results_folder) if f.endswith(\".pdbqt\")]\n",
    "    for fname in results_fname:\n",
    "        ligand_name = fname.split(\"_\")[1].split(\".\")[0]\n",
    "        fpath_result = results_folder + \"/\" + fname\n",
    "        with open(fpath_result) as f:\n",
    "            result = f.readlines()[1]\n",
    "            scores = [float(num) for num in result.split(\"RESULT:\")[1].split() if float(num) != 0]\n",
    "            all_scores[ligand_name] = max(scores)\n",
    "\n",
    "    with open(\"output.json\", \"w\") as f:\n",
    "        json.dump(all_scores, f, indent=4)\n",
    "\n",
    "    print(\"Score for each ligand saved at output.json\")"
   ]
  },
  {
   "cell_type": "markdown",
   "metadata": {},
   "source": [
    "### 11. Create an end-to-end docking pipeline"
   ]
  },
  {
   "cell_type": "code",
   "execution_count": 12,
   "metadata": {},
   "outputs": [],
   "source": [
    "def docking_pipeline(structure=\"6zsl\"):\n",
    "    nsp13 = retrieve_nsp13(structure)\n",
    "    nsp13_pdb_to_pdbqt(structure, nsp13)\n",
    "    generate_pocket()\n",
    "\n",
    "    download_ligands()\n",
    "    prepare_ligands()\n",
    "    convert_ligands_to_pdbqt()\n",
    "\n",
    "    run_docking_for_all_ligands()\n",
    "    retrieve_docking_results()\n"
   ]
  },
  {
   "cell_type": "code",
   "execution_count": 15,
   "metadata": {},
   "outputs": [
    {
     "name": "stderr",
     "output_type": "stream",
     "text": [
      "  0%|          | 0/5 [00:00<?, ?it/s]"
     ]
    },
    {
     "name": "stderr",
     "output_type": "stream",
     "text": [
      "100%|██████████| 5/5 [02:22<00:00, 28.45s/it]\n"
     ]
    },
    {
     "name": "stdout",
     "output_type": "stream",
     "text": [
      "Score for each ligand saved at output.json\n"
     ]
    }
   ],
   "source": [
    "run_docking_for_all_ligands(test=False)\n",
    "retrieve_docking_results()"
   ]
  },
  {
   "cell_type": "code",
   "execution_count": 43,
   "metadata": {},
   "outputs": [],
   "source": [
    "import time\n",
    "import numpy as np\n",
    "def prepare_ligands():\n",
    "    #Lien avec le fichier csv contenant la liste des ligands à télécharger\n",
    "    csv_file = 'data/substances.csv'  \n",
    "    df = pd.read_csv(csv_file,sep = ';')\n",
    "\n",
    "    # Charger les fichiers SDF et préparer les ligands qu'on a téléchargé\n",
    "    ligands_folder = './ligands/zinc_database/'\n",
    "    os.makedirs(ligands_folder, exist_ok=True)\n",
    "    all_times = []\n",
    "    for zinc_id in df['zinc_id']:\n",
    "        start = time.time()\n",
    "        sdf_file = f'{ligands_folder}/{zinc_id}.sdf'\n",
    "\n",
    "        # Charger les molécules depuis le fichier SDF\n",
    "        suppl = Chem.SDMolSupplier(sdf_file)\n",
    "        ligands = [mol for mol in suppl if mol is not None]\n",
    "\n",
    "        # Ajout des hydrogènes explicites et génération des conformations 3D\n",
    "        for mol in ligands:\n",
    "            mol = Chem.AddHs(mol)\n",
    "            AllChem.EmbedMolecule(mol)\n",
    "\n",
    "        # Sauvegarder les molécules modifiées\n",
    "        os.makedirs('./ligands/zinc_db_prepared/', exist_ok=True)\n",
    "        modified_sdf_file = f'./ligands/zinc_db_prepared/{zinc_id}_prepared.sdf'\n",
    "        w = Chem.SDWriter(modified_sdf_file)\n",
    "        for mol in ligands:\n",
    "            w.write(mol)\n",
    "        w.close()\n",
    "        end = time.time()\n",
    "        elapsed = end - start\n",
    "        all_times.append(elapsed)\n",
    "    print(np.mean(all_times))"
   ]
  },
  {
   "cell_type": "code",
   "execution_count": 44,
   "metadata": {},
   "outputs": [
    {
     "name": "stdout",
     "output_type": "stream",
     "text": [
      "0.10144376754760742\n"
     ]
    }
   ],
   "source": [
    "prepare_ligands()"
   ]
  },
  {
   "cell_type": "code",
   "execution_count": 42,
   "metadata": {},
   "outputs": [
    {
     "data": {
      "text/plain": [
       "1706783083.3480673"
      ]
     },
     "execution_count": 42,
     "metadata": {},
     "output_type": "execute_result"
    }
   ],
   "source": [
    "time.time()"
   ]
  },
  {
   "cell_type": "code",
   "execution_count": 46,
   "metadata": {},
   "outputs": [
    {
     "data": {
      "text/plain": [
       "0.25891829689298046"
      ]
     },
     "execution_count": 46,
     "metadata": {},
     "output_type": "execute_result"
    }
   ],
   "source": [
    "(15 * 60) / 3476 "
   ]
  },
  {
   "cell_type": "code",
   "execution_count": null,
   "metadata": {},
   "outputs": [],
   "source": []
  }
 ],
 "metadata": {
  "kernelspec": {
   "display_name": "Python 3 (ipykernel)",
   "language": "python",
   "name": "python3"
  },
  "language_info": {
   "codemirror_mode": {
    "name": "ipython",
    "version": 3
   },
   "file_extension": ".py",
   "mimetype": "text/x-python",
   "name": "python",
   "nbconvert_exporter": "python",
   "pygments_lexer": "ipython3",
   "version": "3.9.13"
  }
 },
 "nbformat": 4,
 "nbformat_minor": 2
}
