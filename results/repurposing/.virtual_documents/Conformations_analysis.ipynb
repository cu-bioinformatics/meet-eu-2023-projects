import pandas as pd
import matplotlib.pyplot as plt
import numpy as np
import seaborn as sns


df = pd.read_csv('updated_dataset.csv')


df.head(102)


df.count()


df.notna().all(axis=1).sum()


len(df)


def plot_affinity(df):
    # Extracting the unique identifiers for the conformations (e.g., '7RDX', '7RDY', '7RDZ', '7RE0')
    conformation_identifiers = [col.split(' - ')[0] for col in df.columns if 'mean' in col]

    # Create a list of mean columns
    mean_columns = [identifier + ' - mean' for identifier in conformation_identifiers]

    # Creating the plot
    plt.figure(figsize=(12, 7))

    # Plotting the lines for each molecule
    for index, row in df.iterrows():
        # Ensure affinity_scores are floats and handle NaN values
        affinity_scores = row[mean_columns].astype(float).values
        # Check if all the scores are NaN
        if not np.all(np.isnan(affinity_scores)):
            # Use only rows with no NaN values for plotting
            valid_scores = ~np.isnan(affinity_scores)
            plt.plot(np.array(conformation_identifiers)[valid_scores], affinity_scores[valid_scores], marker='o')

    # Adding labels and title
    plt.xlabel('Conformation Name', fontsize=14)
    plt.ylabel('Affinity Score', fontsize=14)
    plt.title('Affinity Scores Across Conformations', fontsize=16)

    # Adding grid for better readability
    plt.grid(True, which="both", ls="--", linewidth=0.5)

    # Show the plot
    plt.show()


plot_affinity(df)


def plot_rank(df):
    # Extracting the unique identifiers for the conformations (e.g., '7RDX', '7RDY', '7RDZ', '7RE0')
    conformation_identifiers = [col.split(' - ')[0] for col in df.columns if 'rank' in col]

    # Create a list of mean columns
    rank_columns = [identifier + ' - rank' for identifier in conformation_identifiers]

    # Creating the plot
    plt.figure(figsize=(12, 7))

    # Plotting the lines for each molecule
    for index, row in df.iterrows():
        # Ensure affinity_scores are floats and handle NaN values
        rank_scores = row[rank_columns].astype(float).values
        # Check if all the scores are NaN
        if not np.all(np.isnan(rank_scores)):
            # Use only rows with no NaN values for plotting
            valid_scores = ~np.isnan(rank_scores)
            plt.plot(np.array(conformation_identifiers)[valid_scores], rank_scores[valid_scores], marker='o')

    # Adding labels and title
    plt.xlabel('Conformation Name', fontsize=14)
    plt.ylabel('Ranks Score', fontsize=14)
    plt.title('Rank Scores Across Conformations', fontsize=16)

    # Adding grid for better readability
    plt.grid(True, which="both", ls="--", linewidth=0.5)

    # Show the plot
    plt.show()


plot_rank(df)


df_dropna=df.dropna()


len(df_dropna)


df_dropna.head(100)


plot_affinity(df_dropna)


plot_rank(df_dropna)


df.head()


def count_plot(df):
    max_affinity_counts = df['Max Affinity ID'].value_counts()
    min_affinity_counts = df['Min Affinity ID'].value_counts()
    max_rank_counts = df['Max Rank ID'].value_counts()
    min_rank_counts = df['Min Rank ID'].value_counts()

    # Print out the counts for each
    print("Counts of unique conformations for Max Affinity ID:")
    print(max_affinity_counts)
    print("\nCounts of unique conformations for Min Affinity ID:")
    print(min_affinity_counts)
    print("\nCounts of unique conformations for Max Rank ID:")
    print(max_rank_counts)
    print("\nCounts of unique conformations for Min Rank ID:")
    print(min_rank_counts)

    # Create subplots
    fig, axes = plt.subplots(2, 2, figsize=(14, 12))

    # Plot the counts for each of the specified columns
    max_affinity_counts.plot(kind='bar', ax=axes[0, 0], title='Max Affinity ID Counts', color='skyblue')
    min_affinity_counts.plot(kind='bar', ax=axes[0, 1], title='Min Affinity ID Counts', color='lightgreen')
    max_rank_counts.plot(kind='bar', ax=axes[1, 0], title='Max Rank ID Counts', color='salmon')
    min_rank_counts.plot(kind='bar', ax=axes[1, 1], title='Min Rank ID Counts', color='gold')

    # Adding labels and title for the figure
    axes[0, 0].set_ylabel('Counts')
    axes[0, 1].set_ylabel('Counts')
    axes[1, 0].set_ylabel('Counts')
    axes[1, 1].set_ylabel('Counts')
    plt.suptitle('Counts of Unique Conformations')

    # Adjust layout for better fit
    plt.tight_layout(rect=[0, 0.03, 1, 0.95])

    # Show the plot
    plt.show()


count_plot(df)


count_plot(df_dropna)


def affinity_variance_dist(df):
    # Select the 'Variance of Affinity Scores' column
    variance_of_affinity_scores = df['Variance of Affinity Scores']

    # Create the histogram
    plt.figure(figsize=(10, 6))
    plt.hist(variance_of_affinity_scores, bins=40, color='blue', edgecolor='black', alpha=0.7)

    # Add a title and labels
    plt.title('Histogram of Variance of Affinity Scores')
    plt.xlabel('Variance of Affinity Scores')
    plt.ylabel('Frequency')

    # Show the plot
    plt.show()


plot_variance_dist(df)


plot_variance_dist(df_dropna)


def rank_variance_dist(df):
    # Select the 'Variance of Affinity Scores' column
    variance_of_affinity_scores = df['Variance of Rankings']

    # Create the histogram
    plt.figure(figsize=(10, 6))
    plt.hist(variance_of_affinity_scores, bins=40, color='blue', edgecolor='black', alpha=0.7)

    # Add a title and labels
    plt.title('Histogram of Variance of  Rankings')
    plt.xlabel('Variance of  Rankings')
    plt.ylabel('Frequency')

    # Show the plot
    plt.show()


rank_variance_dist(df)


rank_variance_dist(df_dropna)


def column_correlation(df):
    
    # Select only numeric columns for the correlation matrix
    numeric_df = df.select_dtypes(include=[np.number])
    
    # Calculate the correlation matrix
    correlation_matrix = numeric_df.corr()

    # Create a heatmap to visualize the correlation matrix
    plt.figure(figsize=(14, 10))
    sns.heatmap(correlation_matrix, annot=True, fmt=".2f", cmap='coolwarm', cbar=True)

    # Create a heatmap to visualize the correlation matrix
    plt.figure(figsize=(14, 10))
    sns.heatmap(correlation_matrix, annot=True, fmt=".2f", cmap='coolwarm', cbar=True)

    # Add a title
    plt.title('Correlation Matrix of Dataset')

    # Show the plot
    plt.show()


column_correlation(df)


column_correlation(df_dropna)


df_dropna.sort_values(by='Mean Affinity Score', ascending=True)


df_dropna.sort_values(by='Mean Ranking', ascending=True)
