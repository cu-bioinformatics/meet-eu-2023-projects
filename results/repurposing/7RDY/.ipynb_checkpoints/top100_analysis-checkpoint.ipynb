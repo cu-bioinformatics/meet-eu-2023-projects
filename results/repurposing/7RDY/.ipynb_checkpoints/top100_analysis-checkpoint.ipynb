{
 "cells": [
  {
   "cell_type": "code",
   "execution_count": 7,
   "id": "4442e3ad-20ed-4639-83f1-92a149614609",
   "metadata": {},
   "outputs": [],
   "source": [
    "import pandas as pd\n",
    "import numpy as np"
   ]
  },
  {
   "cell_type": "code",
   "execution_count": 2,
   "id": "51ade69d-f16e-447d-b83f-9c4bcda770f8",
   "metadata": {},
   "outputs": [],
   "source": [
    "df = pd.read_csv('updated_repurposing_result.csv')"
   ]
  },
  {
   "cell_type": "code",
   "execution_count": 3,
   "id": "c8ab5fae-fcd4-478d-8025-0a31b991fa0a",
   "metadata": {},
   "outputs": [
    {
     "data": {
      "text/html": [
       "<div>\n",
       "<style scoped>\n",
       "    .dataframe tbody tr th:only-of-type {\n",
       "        vertical-align: middle;\n",
       "    }\n",
       "\n",
       "    .dataframe tbody tr th {\n",
       "        vertical-align: top;\n",
       "    }\n",
       "\n",
       "    .dataframe thead th {\n",
       "        text-align: right;\n",
       "    }\n",
       "</style>\n",
       "<table border=\"1\" class=\"dataframe\">\n",
       "  <thead>\n",
       "    <tr style=\"text-align: right;\">\n",
       "      <th></th>\n",
       "      <th>proteinID</th>\n",
       "      <th>ligandID</th>\n",
       "      <th>mean</th>\n",
       "      <th>median</th>\n",
       "      <th>max</th>\n",
       "      <th>min</th>\n",
       "      <th>var</th>\n",
       "      <th>DATABASE_ID</th>\n",
       "      <th>DATABASE_NAME</th>\n",
       "      <th>SMILES</th>\n",
       "      <th>...</th>\n",
       "      <th>DRUGBANK_ID</th>\n",
       "      <th>DRUG_GROUPS</th>\n",
       "      <th>GENERIC_NAME</th>\n",
       "      <th>SYNONYMS</th>\n",
       "      <th>PRODUCTS</th>\n",
       "      <th>JCHEM_AVERAGE_NEUTRAL_MICROSPECIES_CHARGE</th>\n",
       "      <th>JCHEM_NEUTRAL_CHARGE</th>\n",
       "      <th>SECONDARY_ACCESSION_NUMBERS</th>\n",
       "      <th>INTERNATIONAL_BRANDS</th>\n",
       "      <th>SALTS</th>\n",
       "    </tr>\n",
       "  </thead>\n",
       "  <tbody>\n",
       "    <tr>\n",
       "      <th>0</th>\n",
       "      <td>7RDY-no-extra</td>\n",
       "      <td>Mrv1909-10091921542D</td>\n",
       "      <td>-17.747059</td>\n",
       "      <td>-17.70</td>\n",
       "      <td>-17.7</td>\n",
       "      <td>-17.9</td>\n",
       "      <td>0.003897</td>\n",
       "      <td>DB15532</td>\n",
       "      <td>drugbank</td>\n",
       "      <td>[H][C@@]1(O[C@@H]2[C@@H](CO)O[C@@H](OC[C@H]3O[...</td>\n",
       "      <td>...</td>\n",
       "      <td>DB15532</td>\n",
       "      <td>experimental</td>\n",
       "      <td>Madecassoside</td>\n",
       "      <td>Asiaticoside A; Redermic</td>\n",
       "      <td>CareMe Madecassoside Cica Derma Repair Control...</td>\n",
       "      <td>NaN</td>\n",
       "      <td>n</td>\n",
       "      <td>NaN</td>\n",
       "      <td>NaN</td>\n",
       "      <td>NaN</td>\n",
       "    </tr>\n",
       "    <tr>\n",
       "      <th>1</th>\n",
       "      <td>7RDY-no-extra</td>\n",
       "      <td>Mrv0541-02231214492D</td>\n",
       "      <td>-15.847727</td>\n",
       "      <td>-15.85</td>\n",
       "      <td>-15.5</td>\n",
       "      <td>-16.1</td>\n",
       "      <td>0.065344</td>\n",
       "      <td>DB00615</td>\n",
       "      <td>drugbank</td>\n",
       "      <td>CO[C@H]1\\C=C\\O[C@@]2(C)OC3=C(C2=O)C2=C(C(O)=C3...</td>\n",
       "      <td>...</td>\n",
       "      <td>DB00615</td>\n",
       "      <td>approved; investigational</td>\n",
       "      <td>Rifabutin</td>\n",
       "      <td>1,4-Dihydro-1-deoxy-1',4-didehydro-5'-(2-methy...</td>\n",
       "      <td>Mycobutin; Rifabutin; Talicia</td>\n",
       "      <td>0.454171</td>\n",
       "      <td>0</td>\n",
       "      <td>APRD00094</td>\n",
       "      <td>Ansatipin; Ansatipine; Ributin</td>\n",
       "      <td>NaN</td>\n",
       "    </tr>\n",
       "    <tr>\n",
       "      <th>2</th>\n",
       "      <td>7RDY-zinc</td>\n",
       "      <td>Mrv1909-08181923252D</td>\n",
       "      <td>-15.500000</td>\n",
       "      <td>-15.50</td>\n",
       "      <td>-15.5</td>\n",
       "      <td>-15.5</td>\n",
       "      <td>0.000000</td>\n",
       "      <td>DB01152</td>\n",
       "      <td>drugbank</td>\n",
       "      <td>CC(CC(C)C1OC(=O)CC(=O)CCCC(=O)CC(O)CC(O)CC(O)C...</td>\n",
       "      <td>...</td>\n",
       "      <td>DB01152</td>\n",
       "      <td>approved; withdrawn</td>\n",
       "      <td>Candicidin</td>\n",
       "      <td>Candicidin; Candicidina; Candicidine; Candicid...</td>\n",
       "      <td>NaN</td>\n",
       "      <td>NaN</td>\n",
       "      <td>n</td>\n",
       "      <td>APRD00843</td>\n",
       "      <td>Vanobid</td>\n",
       "      <td>NaN</td>\n",
       "    </tr>\n",
       "    <tr>\n",
       "      <th>3</th>\n",
       "      <td>7RDY-no-extra</td>\n",
       "      <td>Mrv0541-02231215192D</td>\n",
       "      <td>-14.802273</td>\n",
       "      <td>-14.70</td>\n",
       "      <td>-14.7</td>\n",
       "      <td>-15.0</td>\n",
       "      <td>0.013716</td>\n",
       "      <td>DB01201</td>\n",
       "      <td>drugbank</td>\n",
       "      <td>CO[C@H]1\\C=C\\O[C@@]2(C)OC3=C(C2=O)C2=C(C(O)=C3...</td>\n",
       "      <td>...</td>\n",
       "      <td>DB01201</td>\n",
       "      <td>approved; investigational</td>\n",
       "      <td>Rifapentine</td>\n",
       "      <td>3-(((4-Cyclopentyl-1-piperazinyl)imino)methyl)...</td>\n",
       "      <td>Priftin</td>\n",
       "      <td>0.287753</td>\n",
       "      <td>0</td>\n",
       "      <td>APRD01217</td>\n",
       "      <td>NaN</td>\n",
       "      <td>Rifapentine hydrochloride</td>\n",
       "    </tr>\n",
       "    <tr>\n",
       "      <th>4</th>\n",
       "      <td>7RDY-no-extra</td>\n",
       "      <td>Mrv0541-02231215202D</td>\n",
       "      <td>-14.772727</td>\n",
       "      <td>-14.75</td>\n",
       "      <td>-14.6</td>\n",
       "      <td>-14.9</td>\n",
       "      <td>0.013192</td>\n",
       "      <td>DB01220</td>\n",
       "      <td>drugbank</td>\n",
       "      <td>CO[C@H]1\\C=C\\O[C@@]2(C)OC3=C(C)C(O)=C4C(O)=C(N...</td>\n",
       "      <td>...</td>\n",
       "      <td>DB01220</td>\n",
       "      <td>approved; investigational</td>\n",
       "      <td>Rifaximin</td>\n",
       "      <td>Rifamycin L 105; Rifamycin L 105SV; Rifaxidin;...</td>\n",
       "      <td>Xifaxan; Zaxine</td>\n",
       "      <td>-1.007268</td>\n",
       "      <td>-1</td>\n",
       "      <td>APRD01218</td>\n",
       "      <td>Normix; Rifacol; Xifaxsan</td>\n",
       "      <td>NaN</td>\n",
       "    </tr>\n",
       "  </tbody>\n",
       "</table>\n",
       "<p>5 rows × 49 columns</p>\n",
       "</div>"
      ],
      "text/plain": [
       "       proteinID              ligandID       mean  median   max   min  \\\n",
       "0  7RDY-no-extra  Mrv1909-10091921542D -17.747059  -17.70 -17.7 -17.9   \n",
       "1  7RDY-no-extra  Mrv0541-02231214492D -15.847727  -15.85 -15.5 -16.1   \n",
       "2      7RDY-zinc  Mrv1909-08181923252D -15.500000  -15.50 -15.5 -15.5   \n",
       "3  7RDY-no-extra  Mrv0541-02231215192D -14.802273  -14.70 -14.7 -15.0   \n",
       "4  7RDY-no-extra  Mrv0541-02231215202D -14.772727  -14.75 -14.6 -14.9   \n",
       "\n",
       "        var DATABASE_ID DATABASE_NAME  \\\n",
       "0  0.003897     DB15532      drugbank   \n",
       "1  0.065344     DB00615      drugbank   \n",
       "2  0.000000     DB01152      drugbank   \n",
       "3  0.013716     DB01201      drugbank   \n",
       "4  0.013192     DB01220      drugbank   \n",
       "\n",
       "                                              SMILES  ... DRUGBANK_ID  \\\n",
       "0  [H][C@@]1(O[C@@H]2[C@@H](CO)O[C@@H](OC[C@H]3O[...  ...     DB15532   \n",
       "1  CO[C@H]1\\C=C\\O[C@@]2(C)OC3=C(C2=O)C2=C(C(O)=C3...  ...     DB00615   \n",
       "2  CC(CC(C)C1OC(=O)CC(=O)CCCC(=O)CC(O)CC(O)CC(O)C...  ...     DB01152   \n",
       "3  CO[C@H]1\\C=C\\O[C@@]2(C)OC3=C(C2=O)C2=C(C(O)=C3...  ...     DB01201   \n",
       "4  CO[C@H]1\\C=C\\O[C@@]2(C)OC3=C(C)C(O)=C4C(O)=C(N...  ...     DB01220   \n",
       "\n",
       "                 DRUG_GROUPS   GENERIC_NAME  \\\n",
       "0               experimental  Madecassoside   \n",
       "1  approved; investigational      Rifabutin   \n",
       "2        approved; withdrawn     Candicidin   \n",
       "3  approved; investigational    Rifapentine   \n",
       "4  approved; investigational      Rifaximin   \n",
       "\n",
       "                                            SYNONYMS  \\\n",
       "0                           Asiaticoside A; Redermic   \n",
       "1  1,4-Dihydro-1-deoxy-1',4-didehydro-5'-(2-methy...   \n",
       "2  Candicidin; Candicidina; Candicidine; Candicid...   \n",
       "3  3-(((4-Cyclopentyl-1-piperazinyl)imino)methyl)...   \n",
       "4  Rifamycin L 105; Rifamycin L 105SV; Rifaxidin;...   \n",
       "\n",
       "                                            PRODUCTS  \\\n",
       "0  CareMe Madecassoside Cica Derma Repair Control...   \n",
       "1                      Mycobutin; Rifabutin; Talicia   \n",
       "2                                                NaN   \n",
       "3                                            Priftin   \n",
       "4                                    Xifaxan; Zaxine   \n",
       "\n",
       "   JCHEM_AVERAGE_NEUTRAL_MICROSPECIES_CHARGE  JCHEM_NEUTRAL_CHARGE  \\\n",
       "0                                        NaN                     n   \n",
       "1                                   0.454171                     0   \n",
       "2                                        NaN                     n   \n",
       "3                                   0.287753                     0   \n",
       "4                                  -1.007268                    -1   \n",
       "\n",
       "   SECONDARY_ACCESSION_NUMBERS            INTERNATIONAL_BRANDS  \\\n",
       "0                          NaN                             NaN   \n",
       "1                    APRD00094  Ansatipin; Ansatipine; Ributin   \n",
       "2                    APRD00843                         Vanobid   \n",
       "3                    APRD01217                             NaN   \n",
       "4                    APRD01218       Normix; Rifacol; Xifaxsan   \n",
       "\n",
       "                       SALTS  \n",
       "0                        NaN  \n",
       "1                        NaN  \n",
       "2                        NaN  \n",
       "3  Rifapentine hydrochloride  \n",
       "4                        NaN  \n",
       "\n",
       "[5 rows x 49 columns]"
      ]
     },
     "execution_count": 3,
     "metadata": {},
     "output_type": "execute_result"
    }
   ],
   "source": [
    "df.head()"
   ]
  },
  {
   "cell_type": "code",
   "execution_count": 4,
   "id": "9436193c-1bb1-416c-88c9-b12df671fc13",
   "metadata": {},
   "outputs": [
    {
     "data": {
      "text/plain": [
       "Index(['proteinID', 'ligandID', 'mean', 'median', 'max', 'min', 'var',\n",
       "       'DATABASE_ID', 'DATABASE_NAME', 'SMILES', 'INCHI_IDENTIFIER',\n",
       "       'INCHI_KEY', 'FORMULA', 'MOLECULAR_WEIGHT', 'EXACT_MASS',\n",
       "       'JCHEM_ACCEPTOR_COUNT', 'JCHEM_ATOM_COUNT',\n",
       "       'JCHEM_AVERAGE_POLARIZABILITY', 'JCHEM_BIOAVAILABILITY',\n",
       "       'JCHEM_DONOR_COUNT', 'JCHEM_FORMAL_CHARGE', 'JCHEM_GHOSE_FILTER',\n",
       "       'JCHEM_IUPAC', 'ALOGPS_LOGP', 'JCHEM_LOGP', 'ALOGPS_LOGS',\n",
       "       'JCHEM_MDDR_LIKE_RULE', 'JCHEM_NUMBER_OF_RINGS',\n",
       "       'JCHEM_PHYSIOLOGICAL_CHARGE', 'JCHEM_PKA', 'JCHEM_PKA_STRONGEST_ACIDIC',\n",
       "       'JCHEM_PKA_STRONGEST_BASIC', 'JCHEM_POLAR_SURFACE_AREA',\n",
       "       'JCHEM_REFRACTIVITY', 'JCHEM_ROTATABLE_BOND_COUNT',\n",
       "       'JCHEM_RULE_OF_FIVE', 'ALOGPS_SOLUBILITY', 'JCHEM_TRADITIONAL_IUPAC',\n",
       "       'JCHEM_VEBER_RULE', 'DRUGBANK_ID', 'DRUG_GROUPS', 'GENERIC_NAME',\n",
       "       'SYNONYMS', 'PRODUCTS', 'JCHEM_AVERAGE_NEUTRAL_MICROSPECIES_CHARGE',\n",
       "       'JCHEM_NEUTRAL_CHARGE', 'SECONDARY_ACCESSION_NUMBERS',\n",
       "       'INTERNATIONAL_BRANDS', 'SALTS'],\n",
       "      dtype='object')"
      ]
     },
     "execution_count": 4,
     "metadata": {},
     "output_type": "execute_result"
    }
   ],
   "source": [
    "df.keys()"
   ]
  },
  {
   "cell_type": "code",
   "execution_count": 10,
   "id": "f9570ead-9eac-4ad6-a4c8-466618a17e70",
   "metadata": {},
   "outputs": [
    {
     "data": {
      "text/plain": [
       "659.3711356435643"
      ]
     },
     "execution_count": 10,
     "metadata": {},
     "output_type": "execute_result"
    }
   ],
   "source": [
    "np.mean(df['MOLECULAR_WEIGHT'])"
   ]
  },
  {
   "cell_type": "code",
   "execution_count": 13,
   "id": "9fbd4f5e-9935-4b15-9727-1b8279679940",
   "metadata": {},
   "outputs": [
    {
     "data": {
      "text/plain": [
       "93.98019801980197"
      ]
     },
     "execution_count": 13,
     "metadata": {},
     "output_type": "execute_result"
    }
   ],
   "source": [
    "np.mean(df['JCHEM_ATOM_COUNT'])"
   ]
  },
  {
   "cell_type": "code",
   "execution_count": 15,
   "id": "65e70897-d5d0-49a1-ba99-9fa1fbd298a0",
   "metadata": {},
   "outputs": [
    {
     "data": {
      "text/plain": [
       "658.8378911435843"
      ]
     },
     "execution_count": 15,
     "metadata": {},
     "output_type": "execute_result"
    }
   ],
   "source": [
    "np.mean(df['EXACT_MASS'])"
   ]
  },
  {
   "cell_type": "code",
   "execution_count": null,
   "id": "fa33dc8e-c4b5-4733-92be-8fea7128d76d",
   "metadata": {},
   "outputs": [],
   "source": []
  }
 ],
 "metadata": {
  "kernelspec": {
   "display_name": "Python 3 (ipykernel)",
   "language": "python",
   "name": "python3"
  },
  "language_info": {
   "codemirror_mode": {
    "name": "ipython",
    "version": 3
   },
   "file_extension": ".py",
   "mimetype": "text/x-python",
   "name": "python",
   "nbconvert_exporter": "python",
   "pygments_lexer": "ipython3",
   "version": "3.11.5"
  }
 },
 "nbformat": 4,
 "nbformat_minor": 5
}
