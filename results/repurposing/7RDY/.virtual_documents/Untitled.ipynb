import pandas as pd
import numpy as np


df = pd.read_csv('updated_repurposing_result.csv')


df.head()


df.keys()


np.mean(df['MOLECULAR_WEIGHT'])


np.mean(df['JCHEM_ATOM_COUNT'])


np.mean(df['EXACT_MASS'])



