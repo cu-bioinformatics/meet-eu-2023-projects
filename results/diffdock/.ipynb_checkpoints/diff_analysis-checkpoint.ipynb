{
 "cells": [
  {
   "cell_type": "code",
   "execution_count": 50,
   "id": "68492529-c493-459b-83f1-0b286f77ab8c",
   "metadata": {},
   "outputs": [],
   "source": [
    "import pandas as pd\n",
    "import matplotlib.pyplot as plt\n",
    "import numpy as np\n",
    "import seaborn as sns\n",
    "from scipy.stats import spearmanr"
   ]
  },
  {
   "cell_type": "code",
   "execution_count": 51,
   "id": "30a53143-1f72-4f96-bc26-32b3cb74e480",
   "metadata": {},
   "outputs": [],
   "source": [
    "diff = pd.read_csv('/Users/faflik/Projects/MoleculeScreen/Data/results/diffdock/Diffdock_results.csv')\n",
    "vina = pd.read_csv('/Users/faflik/Projects/MoleculeScreen/Data/results/repurposing/7RDY/updated_repurposing_result.csv')"
   ]
  },
  {
   "cell_type": "code",
   "execution_count": 52,
   "id": "3115aa29-9e2e-4e65-aee6-2cf31086305d",
   "metadata": {},
   "outputs": [
    {
     "data": {
      "text/html": [
       "<div>\n",
       "<style scoped>\n",
       "    .dataframe tbody tr th:only-of-type {\n",
       "        vertical-align: middle;\n",
       "    }\n",
       "\n",
       "    .dataframe tbody tr th {\n",
       "        vertical-align: top;\n",
       "    }\n",
       "\n",
       "    .dataframe thead th {\n",
       "        text-align: right;\n",
       "    }\n",
       "</style>\n",
       "<table border=\"1\" class=\"dataframe\">\n",
       "  <thead>\n",
       "    <tr style=\"text-align: right;\">\n",
       "      <th></th>\n",
       "      <th>Index</th>\n",
       "      <th>PDB Code</th>\n",
       "      <th>SMILES Chemical Structure</th>\n",
       "      <th>Best</th>\n",
       "      <th>Mean</th>\n",
       "      <th>Run times</th>\n",
       "      <th>Min self distances</th>\n",
       "    </tr>\n",
       "  </thead>\n",
       "  <tbody>\n",
       "    <tr>\n",
       "      <th>0</th>\n",
       "      <td>0</td>\n",
       "      <td>tmp-pdb-7RDY</td>\n",
       "      <td>NC1=NC=NC2=C1N=CN2[C@@H]1O[C@@H]2CO[P@](S)(=O)...</td>\n",
       "      <td>-1.257020</td>\n",
       "      <td>-2.463142</td>\n",
       "      <td>226.951520</td>\n",
       "      <td>1.323899</td>\n",
       "    </tr>\n",
       "    <tr>\n",
       "      <th>1</th>\n",
       "      <td>1</td>\n",
       "      <td>tmp-pdb-7RDY</td>\n",
       "      <td>[H][C@@]12CC[C@]3(C)[C@]([H])(CCC4=C5CC(C)(C)C...</td>\n",
       "      <td>-1.452247</td>\n",
       "      <td>-3.132486</td>\n",
       "      <td>170.946050</td>\n",
       "      <td>1.298984</td>\n",
       "    </tr>\n",
       "    <tr>\n",
       "      <th>2</th>\n",
       "      <td>2</td>\n",
       "      <td>tmp-pdb-7RDY</td>\n",
       "      <td>[H][C@@]1(CC[C@]2(O)[C@]3([H])CCC4=C[C@]([H])(...</td>\n",
       "      <td>-1.473806</td>\n",
       "      <td>-2.746019</td>\n",
       "      <td>193.545979</td>\n",
       "      <td>1.257796</td>\n",
       "    </tr>\n",
       "    <tr>\n",
       "      <th>3</th>\n",
       "      <td>3</td>\n",
       "      <td>tmp-pdb-7RDY</td>\n",
       "      <td>CC1(C)CCC2(CC1)N[C@H]([C@H](C1=C(F)C(Cl)=NC=C1...</td>\n",
       "      <td>-1.515139</td>\n",
       "      <td>-3.046909</td>\n",
       "      <td>201.739631</td>\n",
       "      <td>1.255977</td>\n",
       "    </tr>\n",
       "    <tr>\n",
       "      <th>4</th>\n",
       "      <td>4</td>\n",
       "      <td>tmp-pdb-7RDY</td>\n",
       "      <td>[H][C@@]12CC3=CC(OC4=CC=C(C[C@]5([H])N(C)CCC6=...</td>\n",
       "      <td>-1.330953</td>\n",
       "      <td>-3.106141</td>\n",
       "      <td>204.903096</td>\n",
       "      <td>1.347190</td>\n",
       "    </tr>\n",
       "  </tbody>\n",
       "</table>\n",
       "</div>"
      ],
      "text/plain": [
       "   Index      PDB Code                          SMILES Chemical Structure  \\\n",
       "0      0  tmp-pdb-7RDY  NC1=NC=NC2=C1N=CN2[C@@H]1O[C@@H]2CO[P@](S)(=O)...   \n",
       "1      1  tmp-pdb-7RDY  [H][C@@]12CC[C@]3(C)[C@]([H])(CCC4=C5CC(C)(C)C...   \n",
       "2      2  tmp-pdb-7RDY  [H][C@@]1(CC[C@]2(O)[C@]3([H])CCC4=C[C@]([H])(...   \n",
       "3      3  tmp-pdb-7RDY  CC1(C)CCC2(CC1)N[C@H]([C@H](C1=C(F)C(Cl)=NC=C1...   \n",
       "4      4  tmp-pdb-7RDY  [H][C@@]12CC3=CC(OC4=CC=C(C[C@]5([H])N(C)CCC6=...   \n",
       "\n",
       "       Best      Mean   Run times  Min self distances  \n",
       "0 -1.257020 -2.463142  226.951520            1.323899  \n",
       "1 -1.452247 -3.132486  170.946050            1.298984  \n",
       "2 -1.473806 -2.746019  193.545979            1.257796  \n",
       "3 -1.515139 -3.046909  201.739631            1.255977  \n",
       "4 -1.330953 -3.106141  204.903096            1.347190  "
      ]
     },
     "execution_count": 52,
     "metadata": {},
     "output_type": "execute_result"
    }
   ],
   "source": [
    "diff.head()"
   ]
  },
  {
   "cell_type": "code",
   "execution_count": 53,
   "id": "68e11988-6181-4aca-b4a3-55f9cfab2351",
   "metadata": {},
   "outputs": [
    {
     "data": {
      "text/html": [
       "<div>\n",
       "<style scoped>\n",
       "    .dataframe tbody tr th:only-of-type {\n",
       "        vertical-align: middle;\n",
       "    }\n",
       "\n",
       "    .dataframe tbody tr th {\n",
       "        vertical-align: top;\n",
       "    }\n",
       "\n",
       "    .dataframe thead th {\n",
       "        text-align: right;\n",
       "    }\n",
       "</style>\n",
       "<table border=\"1\" class=\"dataframe\">\n",
       "  <thead>\n",
       "    <tr style=\"text-align: right;\">\n",
       "      <th></th>\n",
       "      <th>proteinID</th>\n",
       "      <th>ligandID</th>\n",
       "      <th>mean</th>\n",
       "      <th>median</th>\n",
       "      <th>max</th>\n",
       "      <th>min</th>\n",
       "      <th>var</th>\n",
       "      <th>DATABASE_ID</th>\n",
       "      <th>DATABASE_NAME</th>\n",
       "      <th>SMILES</th>\n",
       "      <th>...</th>\n",
       "      <th>DRUGBANK_ID</th>\n",
       "      <th>DRUG_GROUPS</th>\n",
       "      <th>GENERIC_NAME</th>\n",
       "      <th>SYNONYMS</th>\n",
       "      <th>PRODUCTS</th>\n",
       "      <th>JCHEM_AVERAGE_NEUTRAL_MICROSPECIES_CHARGE</th>\n",
       "      <th>JCHEM_NEUTRAL_CHARGE</th>\n",
       "      <th>SECONDARY_ACCESSION_NUMBERS</th>\n",
       "      <th>INTERNATIONAL_BRANDS</th>\n",
       "      <th>SALTS</th>\n",
       "    </tr>\n",
       "  </thead>\n",
       "  <tbody>\n",
       "    <tr>\n",
       "      <th>0</th>\n",
       "      <td>7RDY-no-extra</td>\n",
       "      <td>Mrv1909-10091921542D</td>\n",
       "      <td>-17.747059</td>\n",
       "      <td>-17.70</td>\n",
       "      <td>-17.7</td>\n",
       "      <td>-17.9</td>\n",
       "      <td>0.003897</td>\n",
       "      <td>DB15532</td>\n",
       "      <td>drugbank</td>\n",
       "      <td>[H][C@@]1(O[C@@H]2[C@@H](CO)O[C@@H](OC[C@H]3O[...</td>\n",
       "      <td>...</td>\n",
       "      <td>DB15532</td>\n",
       "      <td>experimental</td>\n",
       "      <td>Madecassoside</td>\n",
       "      <td>Asiaticoside A; Redermic</td>\n",
       "      <td>CareMe Madecassoside Cica Derma Repair Control...</td>\n",
       "      <td>NaN</td>\n",
       "      <td>n</td>\n",
       "      <td>NaN</td>\n",
       "      <td>NaN</td>\n",
       "      <td>NaN</td>\n",
       "    </tr>\n",
       "    <tr>\n",
       "      <th>1</th>\n",
       "      <td>7RDY-no-extra</td>\n",
       "      <td>Mrv0541-02231214492D</td>\n",
       "      <td>-15.847727</td>\n",
       "      <td>-15.85</td>\n",
       "      <td>-15.5</td>\n",
       "      <td>-16.1</td>\n",
       "      <td>0.065344</td>\n",
       "      <td>DB00615</td>\n",
       "      <td>drugbank</td>\n",
       "      <td>CO[C@H]1\\C=C\\O[C@@]2(C)OC3=C(C2=O)C2=C(C(O)=C3...</td>\n",
       "      <td>...</td>\n",
       "      <td>DB00615</td>\n",
       "      <td>approved; investigational</td>\n",
       "      <td>Rifabutin</td>\n",
       "      <td>1,4-Dihydro-1-deoxy-1',4-didehydro-5'-(2-methy...</td>\n",
       "      <td>Mycobutin; Rifabutin; Talicia</td>\n",
       "      <td>0.454171</td>\n",
       "      <td>0</td>\n",
       "      <td>APRD00094</td>\n",
       "      <td>Ansatipin; Ansatipine; Ributin</td>\n",
       "      <td>NaN</td>\n",
       "    </tr>\n",
       "    <tr>\n",
       "      <th>2</th>\n",
       "      <td>7RDY-zinc</td>\n",
       "      <td>Mrv1909-08181923252D</td>\n",
       "      <td>-15.500000</td>\n",
       "      <td>-15.50</td>\n",
       "      <td>-15.5</td>\n",
       "      <td>-15.5</td>\n",
       "      <td>0.000000</td>\n",
       "      <td>DB01152</td>\n",
       "      <td>drugbank</td>\n",
       "      <td>CC(CC(C)C1OC(=O)CC(=O)CCCC(=O)CC(O)CC(O)CC(O)C...</td>\n",
       "      <td>...</td>\n",
       "      <td>DB01152</td>\n",
       "      <td>approved; withdrawn</td>\n",
       "      <td>Candicidin</td>\n",
       "      <td>Candicidin; Candicidina; Candicidine; Candicid...</td>\n",
       "      <td>NaN</td>\n",
       "      <td>NaN</td>\n",
       "      <td>n</td>\n",
       "      <td>APRD00843</td>\n",
       "      <td>Vanobid</td>\n",
       "      <td>NaN</td>\n",
       "    </tr>\n",
       "    <tr>\n",
       "      <th>3</th>\n",
       "      <td>7RDY-no-extra</td>\n",
       "      <td>Mrv0541-02231215192D</td>\n",
       "      <td>-14.802273</td>\n",
       "      <td>-14.70</td>\n",
       "      <td>-14.7</td>\n",
       "      <td>-15.0</td>\n",
       "      <td>0.013716</td>\n",
       "      <td>DB01201</td>\n",
       "      <td>drugbank</td>\n",
       "      <td>CO[C@H]1\\C=C\\O[C@@]2(C)OC3=C(C2=O)C2=C(C(O)=C3...</td>\n",
       "      <td>...</td>\n",
       "      <td>DB01201</td>\n",
       "      <td>approved; investigational</td>\n",
       "      <td>Rifapentine</td>\n",
       "      <td>3-(((4-Cyclopentyl-1-piperazinyl)imino)methyl)...</td>\n",
       "      <td>Priftin</td>\n",
       "      <td>0.287753</td>\n",
       "      <td>0</td>\n",
       "      <td>APRD01217</td>\n",
       "      <td>NaN</td>\n",
       "      <td>Rifapentine hydrochloride</td>\n",
       "    </tr>\n",
       "    <tr>\n",
       "      <th>4</th>\n",
       "      <td>7RDY-no-extra</td>\n",
       "      <td>Mrv0541-02231215202D</td>\n",
       "      <td>-14.772727</td>\n",
       "      <td>-14.75</td>\n",
       "      <td>-14.6</td>\n",
       "      <td>-14.9</td>\n",
       "      <td>0.013192</td>\n",
       "      <td>DB01220</td>\n",
       "      <td>drugbank</td>\n",
       "      <td>CO[C@H]1\\C=C\\O[C@@]2(C)OC3=C(C)C(O)=C4C(O)=C(N...</td>\n",
       "      <td>...</td>\n",
       "      <td>DB01220</td>\n",
       "      <td>approved; investigational</td>\n",
       "      <td>Rifaximin</td>\n",
       "      <td>Rifamycin L 105; Rifamycin L 105SV; Rifaxidin;...</td>\n",
       "      <td>Xifaxan; Zaxine</td>\n",
       "      <td>-1.007268</td>\n",
       "      <td>-1</td>\n",
       "      <td>APRD01218</td>\n",
       "      <td>Normix; Rifacol; Xifaxsan</td>\n",
       "      <td>NaN</td>\n",
       "    </tr>\n",
       "  </tbody>\n",
       "</table>\n",
       "<p>5 rows × 49 columns</p>\n",
       "</div>"
      ],
      "text/plain": [
       "       proteinID              ligandID       mean  median   max   min  \\\n",
       "0  7RDY-no-extra  Mrv1909-10091921542D -17.747059  -17.70 -17.7 -17.9   \n",
       "1  7RDY-no-extra  Mrv0541-02231214492D -15.847727  -15.85 -15.5 -16.1   \n",
       "2      7RDY-zinc  Mrv1909-08181923252D -15.500000  -15.50 -15.5 -15.5   \n",
       "3  7RDY-no-extra  Mrv0541-02231215192D -14.802273  -14.70 -14.7 -15.0   \n",
       "4  7RDY-no-extra  Mrv0541-02231215202D -14.772727  -14.75 -14.6 -14.9   \n",
       "\n",
       "        var DATABASE_ID DATABASE_NAME  \\\n",
       "0  0.003897     DB15532      drugbank   \n",
       "1  0.065344     DB00615      drugbank   \n",
       "2  0.000000     DB01152      drugbank   \n",
       "3  0.013716     DB01201      drugbank   \n",
       "4  0.013192     DB01220      drugbank   \n",
       "\n",
       "                                              SMILES  ... DRUGBANK_ID  \\\n",
       "0  [H][C@@]1(O[C@@H]2[C@@H](CO)O[C@@H](OC[C@H]3O[...  ...     DB15532   \n",
       "1  CO[C@H]1\\C=C\\O[C@@]2(C)OC3=C(C2=O)C2=C(C(O)=C3...  ...     DB00615   \n",
       "2  CC(CC(C)C1OC(=O)CC(=O)CCCC(=O)CC(O)CC(O)CC(O)C...  ...     DB01152   \n",
       "3  CO[C@H]1\\C=C\\O[C@@]2(C)OC3=C(C2=O)C2=C(C(O)=C3...  ...     DB01201   \n",
       "4  CO[C@H]1\\C=C\\O[C@@]2(C)OC3=C(C)C(O)=C4C(O)=C(N...  ...     DB01220   \n",
       "\n",
       "                 DRUG_GROUPS   GENERIC_NAME  \\\n",
       "0               experimental  Madecassoside   \n",
       "1  approved; investigational      Rifabutin   \n",
       "2        approved; withdrawn     Candicidin   \n",
       "3  approved; investigational    Rifapentine   \n",
       "4  approved; investigational      Rifaximin   \n",
       "\n",
       "                                            SYNONYMS  \\\n",
       "0                           Asiaticoside A; Redermic   \n",
       "1  1,4-Dihydro-1-deoxy-1',4-didehydro-5'-(2-methy...   \n",
       "2  Candicidin; Candicidina; Candicidine; Candicid...   \n",
       "3  3-(((4-Cyclopentyl-1-piperazinyl)imino)methyl)...   \n",
       "4  Rifamycin L 105; Rifamycin L 105SV; Rifaxidin;...   \n",
       "\n",
       "                                            PRODUCTS  \\\n",
       "0  CareMe Madecassoside Cica Derma Repair Control...   \n",
       "1                      Mycobutin; Rifabutin; Talicia   \n",
       "2                                                NaN   \n",
       "3                                            Priftin   \n",
       "4                                    Xifaxan; Zaxine   \n",
       "\n",
       "   JCHEM_AVERAGE_NEUTRAL_MICROSPECIES_CHARGE  JCHEM_NEUTRAL_CHARGE  \\\n",
       "0                                        NaN                     n   \n",
       "1                                   0.454171                     0   \n",
       "2                                        NaN                     n   \n",
       "3                                   0.287753                     0   \n",
       "4                                  -1.007268                    -1   \n",
       "\n",
       "   SECONDARY_ACCESSION_NUMBERS            INTERNATIONAL_BRANDS  \\\n",
       "0                          NaN                             NaN   \n",
       "1                    APRD00094  Ansatipin; Ansatipine; Ributin   \n",
       "2                    APRD00843                         Vanobid   \n",
       "3                    APRD01217                             NaN   \n",
       "4                    APRD01218       Normix; Rifacol; Xifaxsan   \n",
       "\n",
       "                       SALTS  \n",
       "0                        NaN  \n",
       "1                        NaN  \n",
       "2                        NaN  \n",
       "3  Rifapentine hydrochloride  \n",
       "4                        NaN  \n",
       "\n",
       "[5 rows x 49 columns]"
      ]
     },
     "execution_count": 53,
     "metadata": {},
     "output_type": "execute_result"
    }
   ],
   "source": [
    "vina.head()"
   ]
  },
  {
   "cell_type": "code",
   "execution_count": 54,
   "id": "09d0524e-7f40-450d-9eb8-be8197e8e416",
   "metadata": {},
   "outputs": [],
   "source": [
    "def filter_dataframe(df_to_filter, df_reference, column_to_filter, reference_column):\n",
    "    \"\"\"\n",
    "    Drops rows from df_to_filter whose values in column_to_filter are not found in reference_column of df_reference.\n",
    "\n",
    "    Parameters:\n",
    "    df_to_filter (pd.DataFrame): DataFrame to be filtered.\n",
    "    df_reference (pd.DataFrame): DataFrame to use as reference for filtering.\n",
    "    column_to_filter (str): Column name in df_to_filter to apply the filter on.\n",
    "    reference_column (str): Column name in df_reference to compare against.\n",
    "\n",
    "    Returns:\n",
    "    pd.DataFrame: Filtered DataFrame.\n",
    "    \"\"\"\n",
    "    # Identify values in the reference column\n",
    "    reference_values = set(df_reference[reference_column])\n",
    "\n",
    "    # Filter the DataFrame\n",
    "    filtered_df = df_to_filter[df_to_filter[column_to_filter].isin(reference_values)]\n",
    "\n",
    "    return filtered_df"
   ]
  },
  {
   "cell_type": "code",
   "execution_count": 55,
   "id": "d977c7ba-fab7-4377-956f-5139c85fc9d7",
   "metadata": {},
   "outputs": [],
   "source": [
    "vina = filter_dataframe(vina, diff, 'SMILES', 'SMILES Chemical Structure')"
   ]
  },
  {
   "cell_type": "code",
   "execution_count": 56,
   "id": "971687e3-5529-44d6-9d86-e1201fedd739",
   "metadata": {},
   "outputs": [
    {
     "data": {
      "text/plain": [
       "proteinID                                    55\n",
       "ligandID                                     55\n",
       "mean                                         55\n",
       "median                                       55\n",
       "max                                          55\n",
       "min                                          55\n",
       "var                                          55\n",
       "DATABASE_ID                                  55\n",
       "DATABASE_NAME                                55\n",
       "SMILES                                       55\n",
       "INCHI_IDENTIFIER                             55\n",
       "INCHI_KEY                                    55\n",
       "FORMULA                                      55\n",
       "MOLECULAR_WEIGHT                             55\n",
       "EXACT_MASS                                   55\n",
       "JCHEM_ACCEPTOR_COUNT                         55\n",
       "JCHEM_ATOM_COUNT                             55\n",
       "JCHEM_AVERAGE_POLARIZABILITY                 55\n",
       "JCHEM_BIOAVAILABILITY                        55\n",
       "JCHEM_DONOR_COUNT                            55\n",
       "JCHEM_FORMAL_CHARGE                          55\n",
       "JCHEM_GHOSE_FILTER                           55\n",
       "JCHEM_IUPAC                                  55\n",
       "ALOGPS_LOGP                                  54\n",
       "JCHEM_LOGP                                   55\n",
       "ALOGPS_LOGS                                  54\n",
       "JCHEM_MDDR_LIKE_RULE                         55\n",
       "JCHEM_NUMBER_OF_RINGS                        55\n",
       "JCHEM_PHYSIOLOGICAL_CHARGE                   55\n",
       "JCHEM_PKA                                    40\n",
       "JCHEM_PKA_STRONGEST_ACIDIC                   53\n",
       "JCHEM_PKA_STRONGEST_BASIC                    55\n",
       "JCHEM_POLAR_SURFACE_AREA                     55\n",
       "JCHEM_REFRACTIVITY                           55\n",
       "JCHEM_ROTATABLE_BOND_COUNT                   55\n",
       "JCHEM_RULE_OF_FIVE                           55\n",
       "ALOGPS_SOLUBILITY                            54\n",
       "JCHEM_TRADITIONAL_IUPAC                      55\n",
       "JCHEM_VEBER_RULE                             55\n",
       "DRUGBANK_ID                                  55\n",
       "DRUG_GROUPS                                  55\n",
       "GENERIC_NAME                                 55\n",
       "SYNONYMS                                     41\n",
       "PRODUCTS                                     13\n",
       "JCHEM_AVERAGE_NEUTRAL_MICROSPECIES_CHARGE    29\n",
       "JCHEM_NEUTRAL_CHARGE                         55\n",
       "SECONDARY_ACCESSION_NUMBERS                  15\n",
       "INTERNATIONAL_BRANDS                         10\n",
       "SALTS                                        13\n",
       "dtype: int64"
      ]
     },
     "execution_count": 56,
     "metadata": {},
     "output_type": "execute_result"
    }
   ],
   "source": [
    "vina.count()"
   ]
  },
  {
   "cell_type": "code",
   "execution_count": 57,
   "id": "745469ac-59db-4d0f-b7b6-ca5a30dc4255",
   "metadata": {},
   "outputs": [],
   "source": [
    "diff['Diff_Rank_Best'] = diff['Best'].rank(method='first')\n",
    "diff['Diff_Rank_Mean'] = diff['Mean'].rank(method='first')\n",
    "vina['Vina_Rank'] = vina['mean'].rank(method='first')"
   ]
  },
  {
   "cell_type": "code",
   "execution_count": 58,
   "id": "ac4e601a-9088-4844-8835-4826e96b15e0",
   "metadata": {},
   "outputs": [],
   "source": [
    "merged = pd.merge(diff, vina, left_on='SMILES Chemical Structure', right_on='SMILES')"
   ]
  },
  {
   "cell_type": "code",
   "execution_count": 59,
   "id": "104e0964-e5b9-4d8c-84b4-409fa4a183a4",
   "metadata": {},
   "outputs": [
    {
     "data": {
      "text/plain": [
       "Index                                        55\n",
       "PDB Code                                     55\n",
       "SMILES Chemical Structure                    55\n",
       "Best                                         55\n",
       "Mean                                         55\n",
       "Run times                                    55\n",
       "Min self distances                           55\n",
       "Diff_Rank_Best                               55\n",
       "Diff_Rank_Mean                               55\n",
       "proteinID                                    55\n",
       "ligandID                                     55\n",
       "mean                                         55\n",
       "median                                       55\n",
       "max                                          55\n",
       "min                                          55\n",
       "var                                          55\n",
       "DATABASE_ID                                  55\n",
       "DATABASE_NAME                                55\n",
       "SMILES                                       55\n",
       "INCHI_IDENTIFIER                             55\n",
       "INCHI_KEY                                    55\n",
       "FORMULA                                      55\n",
       "MOLECULAR_WEIGHT                             55\n",
       "EXACT_MASS                                   55\n",
       "JCHEM_ACCEPTOR_COUNT                         55\n",
       "JCHEM_ATOM_COUNT                             55\n",
       "JCHEM_AVERAGE_POLARIZABILITY                 55\n",
       "JCHEM_BIOAVAILABILITY                        55\n",
       "JCHEM_DONOR_COUNT                            55\n",
       "JCHEM_FORMAL_CHARGE                          55\n",
       "JCHEM_GHOSE_FILTER                           55\n",
       "JCHEM_IUPAC                                  55\n",
       "ALOGPS_LOGP                                  54\n",
       "JCHEM_LOGP                                   55\n",
       "ALOGPS_LOGS                                  54\n",
       "JCHEM_MDDR_LIKE_RULE                         55\n",
       "JCHEM_NUMBER_OF_RINGS                        55\n",
       "JCHEM_PHYSIOLOGICAL_CHARGE                   55\n",
       "JCHEM_PKA                                    40\n",
       "JCHEM_PKA_STRONGEST_ACIDIC                   53\n",
       "JCHEM_PKA_STRONGEST_BASIC                    55\n",
       "JCHEM_POLAR_SURFACE_AREA                     55\n",
       "JCHEM_REFRACTIVITY                           55\n",
       "JCHEM_ROTATABLE_BOND_COUNT                   55\n",
       "JCHEM_RULE_OF_FIVE                           55\n",
       "ALOGPS_SOLUBILITY                            54\n",
       "JCHEM_TRADITIONAL_IUPAC                      55\n",
       "JCHEM_VEBER_RULE                             55\n",
       "DRUGBANK_ID                                  55\n",
       "DRUG_GROUPS                                  55\n",
       "GENERIC_NAME                                 55\n",
       "SYNONYMS                                     41\n",
       "PRODUCTS                                     13\n",
       "JCHEM_AVERAGE_NEUTRAL_MICROSPECIES_CHARGE    29\n",
       "JCHEM_NEUTRAL_CHARGE                         55\n",
       "SECONDARY_ACCESSION_NUMBERS                  15\n",
       "INTERNATIONAL_BRANDS                         10\n",
       "SALTS                                        13\n",
       "Vina_Rank                                    55\n",
       "dtype: int64"
      ]
     },
     "execution_count": 59,
     "metadata": {},
     "output_type": "execute_result"
    }
   ],
   "source": [
    "merged.count()"
   ]
  },
  {
   "cell_type": "code",
   "execution_count": 60,
   "id": "2a0e30dd-46bf-41a3-9b0f-15d58808dc13",
   "metadata": {},
   "outputs": [],
   "source": [
    "merged['Ranking_Difference_vina/best'] = abs(merged['Diff_Rank_Best'] - merged['Vina_Rank'])\n",
    "merged['Ranking_Difference_vina/mean'] = abs(merged['Diff_Rank_Mean'] - merged['Vina_Rank'])"
   ]
  },
  {
   "cell_type": "code",
   "execution_count": 61,
   "id": "d5e7fa86-bed6-4771-9fa2-883a210260aa",
   "metadata": {},
   "outputs": [],
   "source": [
    "def hist(merged_df, col, title='Ranking Difference'):\n",
    "    # Histogram/Boxplot for Ranking Differences\n",
    "    plt.figure(figsize=(10, 6))\n",
    "    sns.histplot(merged_df[col], bins=40, kde=True, color='blue', edgecolor='black', alpha=0.7)\n",
    "    plt.title('Distribution of Ranking Differences')\n",
    "    plt.xlabel(title)\n",
    "    plt.ylabel('Frequency')\n",
    "    plt.show()"
   ]
  },
  {
   "cell_type": "code",
   "execution_count": 62,
   "id": "d77dae32-633e-4e8c-a12e-0827c70ce1be",
   "metadata": {},
   "outputs": [
    {
     "name": "stderr",
     "output_type": "stream",
     "text": [
      "/Users/faflik/anaconda3/lib/python3.11/site-packages/seaborn/_oldcore.py:1119: FutureWarning: use_inf_as_na option is deprecated and will be removed in a future version. Convert inf values to NaN before operating instead.\n",
      "  with pd.option_context('mode.use_inf_as_na', True):\n"
     ]
    },
    {
     "data": {
      "image/png": "[encoded data removed]",
      "text/plain": [
       "<Figure size 1000x600 with 1 Axes>"
      ]
     },
     "metadata": {},
     "output_type": "display_data"
    }
   ],
   "source": [
    "hist(merged, 'Ranking_Difference_vina/best', title='Ranking Difference vina/diffdock best')"
   ]
  },
  {
   "cell_type": "code",
   "execution_count": 63,
   "id": "042bdbf2-cd59-48e8-947d-b664ab2d49cf",
   "metadata": {},
   "outputs": [
    {
     "name": "stderr",
     "output_type": "stream",
     "text": [
      "/Users/faflik/anaconda3/lib/python3.11/site-packages/seaborn/_oldcore.py:1119: FutureWarning: use_inf_as_na option is deprecated and will be removed in a future version. Convert inf values to NaN before operating instead.\n",
      "  with pd.option_context('mode.use_inf_as_na', True):\n"
     ]
    },
    {
     "data": {
      "image/png": "[encoded data removed]",
      "text/plain": [
       "<Figure size 1000x600 with 1 Axes>"
      ]
     },
     "metadata": {},
     "output_type": "display_data"
    }
   ],
   "source": [
    "hist(merged, 'Ranking_Difference_vina/mean', title='Ranking Difference vina/diffdock mean')"
   ]
  },
  {
   "cell_type": "code",
   "execution_count": 64,
   "id": "7edd0ef7-fcad-45de-b529-f5ba9653049f",
   "metadata": {},
   "outputs": [
    {
     "data": {
      "text/plain": [
       "count    55.000000\n",
       "mean     16.872727\n",
       "std      13.430279\n",
       "min       0.000000\n",
       "25%       5.500000\n",
       "50%      14.000000\n",
       "75%      24.000000\n",
       "max      46.000000\n",
       "Name: Ranking_Difference_vina/best, dtype: float64"
      ]
     },
     "execution_count": 64,
     "metadata": {},
     "output_type": "execute_result"
    }
   ],
   "source": [
    "merged['Ranking_Difference_vina/best'].describe()"
   ]
  },
  {
   "cell_type": "code",
   "execution_count": 65,
   "id": "4fad101c-cdb6-41a7-b3b8-e940eb15ebeb",
   "metadata": {},
   "outputs": [
    {
     "data": {
      "text/plain": [
       "count    55.000000\n",
       "mean     18.109091\n",
       "std      12.908040\n",
       "min       0.000000\n",
       "25%       7.500000\n",
       "50%      17.000000\n",
       "75%      24.000000\n",
       "max      54.000000\n",
       "Name: Ranking_Difference_vina/mean, dtype: float64"
      ]
     },
     "execution_count": 65,
     "metadata": {},
     "output_type": "execute_result"
    }
   ],
   "source": [
    "merged['Ranking_Difference_vina/mean'].describe()"
   ]
  },
  {
   "cell_type": "code",
   "execution_count": 70,
   "id": "09b5e916-0f87-45d4-a68a-ee2277cc5dcc",
   "metadata": {},
   "outputs": [],
   "source": [
    "def Scatter(merged_df, x, y='Vina_Rank'):\n",
    "    # Scatter Plot\n",
    "    plt.figure(figsize=(10, 6))\n",
    "    sns.scatterplot(x=x, y=y, data=merged_df)\n",
    "    plt.title('Comparison of Drug Docking Approaches')\n",
    "    plt.xlabel('Diffdock Score (Approach 1)')\n",
    "    plt.ylabel('Vina Score (Approach 2)')\n",
    "    plt.show()"
   ]
  },
  {
   "cell_type": "code",
   "execution_count": 71,
   "id": "68bd357d-934a-4b24-8fe5-907e5167c9d8",
   "metadata": {},
   "outputs": [
    {
     "data": {
      "image/png": "[encoded data removed]",
      "text/plain": [
       "<Figure size 1000x600 with 1 Axes>"
      ]
     },
     "metadata": {},
     "output_type": "display_data"
    }
   ],
   "source": [
    "Scatter(merged, 'Diff_Rank_Best')"
   ]
  },
  {
   "cell_type": "code",
   "execution_count": 72,
   "id": "0f905a37-e139-4eb0-99eb-a75d21c9ac46",
   "metadata": {},
   "outputs": [
    {
     "data": {
      "image/png": "[encoded data removed]",
      "text/plain": [
       "<Figure size 1000x600 with 1 Axes>"
      ]
     },
     "metadata": {},
     "output_type": "display_data"
    }
   ],
   "source": [
    "Scatter(merged, 'Diff_Rank_Mean')"
   ]
  },
  {
   "cell_type": "code",
   "execution_count": 74,
   "id": "6baf52a1-2eb9-4869-a292-4a0331b26b8c",
   "metadata": {},
   "outputs": [],
   "source": [
    "def correlation(merged_df, col):\n",
    "    # Calculate Spearman's rank correlation\n",
    "    correlation, p_value = spearmanr(merged_df[col], merged_df['Vina_Rank'])\n",
    "    \n",
    "    print(f\"Spearman's rank correlation coefficient: {correlation:.3f}\")\n",
    "    print(f\"P-value: {p_value:.3f}\")\n",
    "\n",
    "# Interpret the results\n",
    "# A correlation close to 1 indicates a strong positive relationship,\n",
    "# close to -1 indicates a strong negative relationship,\n",
    "# and around 0 indicates no relationship."
   ]
  },
  {
   "cell_type": "code",
   "execution_count": 76,
   "id": "ae10d427-304b-440f-a9f4-f622f1f458fb",
   "metadata": {},
   "outputs": [
    {
     "name": "stdout",
     "output_type": "stream",
     "text": [
      "Spearman's rank correlation coefficient: 0.084\n",
      "P-value: 0.543\n"
     ]
    }
   ],
   "source": [
    "correlation(merged, 'Diff_Rank_Best')"
   ]
  },
  {
   "cell_type": "code",
   "execution_count": 77,
   "id": "0c857a0c-6d5e-4c7e-a359-21e4dacd483a",
   "metadata": {},
   "outputs": [
    {
     "name": "stdout",
     "output_type": "stream",
     "text": [
      "Spearman's rank correlation coefficient: 0.025\n",
      "P-value: 0.858\n"
     ]
    }
   ],
   "source": [
    "correlation(merged, 'Diff_Rank_Mean')"
   ]
  }
 ],
 "metadata": {
  "kernelspec": {
   "display_name": "Python 3 (ipykernel)",
   "language": "python",
   "name": "python3"
  },
  "language_info": {
   "codemirror_mode": {
    "name": "ipython",
    "version": 3
   },
   "file_extension": ".py",
   "mimetype": "text/x-python",
   "name": "python",
   "nbconvert_exporter": "python",
   "pygments_lexer": "ipython3",
   "version": "3.11.5"
  }
 },
 "nbformat": 4,
 "nbformat_minor": 5
}
